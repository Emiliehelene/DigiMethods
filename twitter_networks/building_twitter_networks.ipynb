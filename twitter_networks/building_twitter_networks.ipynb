{
 "cells": [
  {
   "cell_type": "markdown",
   "metadata": {},
   "source": [
    "# Twitter networks : retweet, reply and hashtag\n",
    "\n",
    "In this notebook we will indtroduce to some basic networkx while working with\n",
    "different types of twitter networks. The datasets you have access to are smaller subset of the Danish twitter dataset. You will all be able to get more of data, but for now we simply want to build different types of networks and demostrate som very basic ways in which this can help you in your issue analysis."
   ]
  },
  {
   "cell_type": "code",
   "execution_count": 2,
   "metadata": {},
   "outputs": [],
   "source": [
    "# import libraries\n",
    "import pandas as pd\n",
    "import networkx as nx\n",
    "import matplotlib as plt\n",
    "%matplotlib inline "
   ]
  },
  {
   "cell_type": "markdown",
   "metadata": {},
   "source": [
    "# Retweet network\n",
    "\n",
    "We will import a dataframe of retweets. Make it into a list of edges that networkx can transform into a network. We will then calculate indegree and inspect the most retweeted actors in the corona issue. \n",
    "\n",
    "We will likewise calculate the out degree to see who is spreading the word/spamming or sharing."
   ]
  },
  {
   "cell_type": "code",
   "execution_count": 3,
   "metadata": {},
   "outputs": [],
   "source": [
    "# Can tell us something about who is retweeting who - indicator of alliances. \n",
    "# Who supports who around the corona issue for example? \n",
    "# We can analyze information spread \n",
    "# We Can also look at specific actors position within a network, this can be an indicator of power within a network\n",
    "# importing retweet edges list. 'user' is the one \n",
    "# twitting and 'retweeted_user' is being retweeted.\n",
    "df_retweet_edges = pd.read_csv('retweet_edges_test.csv') "
   ]
  },
  {
   "cell_type": "code",
   "execution_count": 4,
   "metadata": {},
   "outputs": [
    {
     "data": {
      "text/html": [
       "<div>\n",
       "<style scoped>\n",
       "    .dataframe tbody tr th:only-of-type {\n",
       "        vertical-align: middle;\n",
       "    }\n",
       "\n",
       "    .dataframe tbody tr th {\n",
       "        vertical-align: top;\n",
       "    }\n",
       "\n",
       "    .dataframe thead th {\n",
       "        text-align: right;\n",
       "    }\n",
       "</style>\n",
       "<table border=\"1\" class=\"dataframe\">\n",
       "  <thead>\n",
       "    <tr style=\"text-align: right;\">\n",
       "      <th></th>\n",
       "      <th>user</th>\n",
       "      <th>retweeted_user</th>\n",
       "    </tr>\n",
       "  </thead>\n",
       "  <tbody>\n",
       "    <tr>\n",
       "      <td>0</td>\n",
       "      <td>Ørum</td>\n",
       "      <td>larskohler</td>\n",
       "    </tr>\n",
       "    <tr>\n",
       "      <td>1</td>\n",
       "      <td>De Grønne - DKs Grønne Liberale Parti</td>\n",
       "      <td>jonasholmdk</td>\n",
       "    </tr>\n",
       "    <tr>\n",
       "      <td>2</td>\n",
       "      <td>De Grønne - DKs Grønne Liberale Parti</td>\n",
       "      <td>jonasholmdk</td>\n",
       "    </tr>\n",
       "    <tr>\n",
       "      <td>3</td>\n",
       "      <td>MarcoMcFly</td>\n",
       "      <td>Knutti_ETH</td>\n",
       "    </tr>\n",
       "    <tr>\n",
       "      <td>4</td>\n",
       "      <td>Ivan</td>\n",
       "      <td>Jeannevetling</td>\n",
       "    </tr>\n",
       "    <tr>\n",
       "      <td>...</td>\n",
       "      <td>...</td>\n",
       "      <td>...</td>\n",
       "    </tr>\n",
       "    <tr>\n",
       "      <td>195</td>\n",
       "      <td>Carsten Dybkjaer</td>\n",
       "      <td>LaerkeElbil</td>\n",
       "    </tr>\n",
       "    <tr>\n",
       "      <td>196</td>\n",
       "      <td>Kjeld Gaard-Frederiksen</td>\n",
       "      <td>cekicozlem</td>\n",
       "    </tr>\n",
       "    <tr>\n",
       "      <td>197</td>\n",
       "      <td>Kjeld Gaard-Frederiksen</td>\n",
       "      <td>kaaretraberg</td>\n",
       "    </tr>\n",
       "    <tr>\n",
       "      <td>198</td>\n",
       "      <td>Nikolaj Villumsen</td>\n",
       "      <td>RosaLundEl</td>\n",
       "    </tr>\n",
       "    <tr>\n",
       "      <td>199</td>\n",
       "      <td>Pip fra politiker</td>\n",
       "      <td>RosaLundEl</td>\n",
       "    </tr>\n",
       "  </tbody>\n",
       "</table>\n",
       "<p>200 rows × 2 columns</p>\n",
       "</div>"
      ],
      "text/plain": [
       "                                      user retweeted_user\n",
       "0                                     Ørum     larskohler\n",
       "1    De Grønne - DKs Grønne Liberale Parti    jonasholmdk\n",
       "2    De Grønne - DKs Grønne Liberale Parti    jonasholmdk\n",
       "3                               MarcoMcFly     Knutti_ETH\n",
       "4                                     Ivan  Jeannevetling\n",
       "..                                     ...            ...\n",
       "195                       Carsten Dybkjaer    LaerkeElbil\n",
       "196                Kjeld Gaard-Frederiksen     cekicozlem\n",
       "197                Kjeld Gaard-Frederiksen   kaaretraberg\n",
       "198                      Nikolaj Villumsen     RosaLundEl\n",
       "199                      Pip fra politiker     RosaLundEl\n",
       "\n",
       "[200 rows x 2 columns]"
      ]
     },
     "execution_count": 4,
     "metadata": {},
     "output_type": "execute_result"
    }
   ],
   "source": [
    "df_retweet_edges"
   ]
  },
  {
   "cell_type": "code",
   "execution_count": 5,
   "metadata": {},
   "outputs": [],
   "source": [
    "# pandas to_records transforms a dataframe into a list of truples, which networkx can work with\n",
    "edges_retweet = df_retweet_edges.to_records(index=False)"
   ]
  },
  {
   "cell_type": "code",
   "execution_count": 6,
   "metadata": {},
   "outputs": [
    {
     "data": {
      "text/plain": [
       "rec.array([('Ørum', 'larskohler'),\n",
       "           ('De Grønne - DKs Grønne Liberale Parti', 'jonasholmdk'),\n",
       "           ('De Grønne - DKs Grønne Liberale Parti', 'jonasholmdk'),\n",
       "           ('MarcoMcFly', 'Knutti_ETH'), ('Ivan', 'Jeannevetling'),\n",
       "           ('Marcel W', 'Knutti_ETH'), ('Caja Jensen', 'stiftendk'),\n",
       "           ('Michaela Rousing ❄', 'OjylPoliti'),\n",
       "           ('Martin Gertsch', 'Knutti_ETH'), ('Pernille 🚯', 'jwcph'),\n",
       "           ('Leif Haak', 'finn_skou'),\n",
       "           ('Tɯitterhjerne', 'AltidFilmperle'),\n",
       "           ('AB Albrectsen', 'cekicozlem'), ('Peter Barkentin', 'jwcph'),\n",
       "           ('Jutta Ditfurth', 'juergenzimmerer'),\n",
       "           ('Pfu((i)) Deifi PEGIDA', 'juergenzimmerer'),\n",
       "           ('Frej Elbæk Schjeldal', 'trinskjaer'),\n",
       "           ('Nikolaj Rønsbo', 'MFVMin'), ('hcin1', 'OjylPoliti'),\n",
       "           ('binaseff@gmail.com', 'jarlkrausing'),\n",
       "           ('marianne stockmarr', 'kaaretraberg'),\n",
       "           ('marianne stockmarr', 'nvillumsen'),\n",
       "           ('DerZorn', 'Knutti_ETH'), ('StineHelles', 'martincollignon'),\n",
       "           ('marianne stockmarr', 'HenrikHerl'),\n",
       "           ('marianne stockmarr', 'MariaGjerding'),\n",
       "           ('Lea scavenius', 'cekicozlem'),\n",
       "           ('Nikolaj Wendt', 'KasperBorch'),\n",
       "           ('Jimmy Keung', 'uffeelbaek'),\n",
       "           ('Jochen Bölsche', 'Knutti_ETH'),\n",
       "           ('Christian W. Larsen', 'danielnyboe'),\n",
       "           ('Kristian Hegaard', 'muratdk'),\n",
       "           ('Politik Papegøjen🦜', 'muratdk'),\n",
       "           ('Peter Barkentin', 'cekicozlem'), ('Mie Kjaer', 'KHegaard'),\n",
       "           ('Rasmus Kongshøj', 'KHegaard'),\n",
       "           ('B. Kramer', 'juergenzimmerer'),\n",
       "           ('Politik Papegøjen🦜', 'Susanne_Zimmer_'),\n",
       "           ('852cyu', 'uffeelbaek'), ('Helga', 'juergenzimmerer'),\n",
       "           ('S', 'LisbethBPoulsen'), ('Anders Pedersen', 'NielsChrRod'),\n",
       "           ('Søren Laulund', 'SjylPoliti'),\n",
       "           (\"Gina's Nutant Tinja Murtles\", 'juergenzimmerer'),\n",
       "           ('turkan balci', 'Joedisksamfund'),\n",
       "           ('Waldläuferin🌻🌲🌳', 'juergenzimmerer'), ('S', 'mfMorten'),\n",
       "           ('Karoline Nøhr', 'IdaAuken'),\n",
       "           ('Kathrine Olldag', 'karolinenoehr'),\n",
       "           ('Politik Papegøjen🦜', 'karolinenoehr'),\n",
       "           ('Politik Papegøjen🦜', 'RosaLundEl'),\n",
       "           ('Signe Kirstine Andersen', 'h_kragesteen'),\n",
       "           ('Jürgen Hamel', 'juergenzimmerer'),\n",
       "           ('Peter Petersen', 'pomaEB'), ('Marcel Hänggi', 'Knutti_ETH'),\n",
       "           ('TV 2 NEWS', 'tv2politik'), ('TV 2 NYHEDERNE', 'tv2politik'),\n",
       "           ('Per Mortensen', 'finn_skou'), ('Niklas Leifelt', 'IdaAuken'),\n",
       "           ('Charlotte Heer Grau', 'Knutti_ETH'),\n",
       "           ('Mie Kjaer', 'larskohler'), ('Knud Brix', 'brianweichardt'),\n",
       "           ('Peter Petersen', 'larswerge'), ('Saeeda Ahmed1', 'WHIS2020'),\n",
       "           ('Datamap', 'Knutti_ETH'), ('Pernille Skipper', 'RosaLundEl'),\n",
       "           ('Jens-Chr Poulsen', 'Mich_Ziegler'),\n",
       "           ('Patrizia Laeri', 'Knutti_ETH'),\n",
       "           ('Mark Mikael Müller', 'hansersej'),\n",
       "           ('Peter Petersen', 'brianweichardt'),\n",
       "           ('Benjamin Gautschi', 'Knutti_ETH'),\n",
       "           ('Asbjørn Lindsø', 'karolinenoehr'),\n",
       "           ('Martin Koradi', 'Knutti_ETH'),\n",
       "           ('Bibsen 🍀🌿🍃🌱', 'Susanne_Zimmer_'),\n",
       "           ('Sune Mølgaard', 'asbjoernwilliam'),\n",
       "           ('Jesper Lund', 'cekicozlem'), ('Mai Villadsen', 'RosaLundEl'),\n",
       "           ('Martin Taarup', 'cekicozlem'), ('Steffen Munk', 'je5perl'),\n",
       "           ('Camilla Holm Khan', 'finn_skou'),\n",
       "           ('Alexander Kjærsgaard', 'EspDanmark'),\n",
       "           ('Frederik Raabye', 'je5perl'),\n",
       "           ('Vincent Sufiyan', 'Knutti_ETH'),\n",
       "           ('Jonatan Schloss', 'jk2765'),\n",
       "           ('Jonatan Schloss', 'PerLarsenC'),\n",
       "           ('Leonora Hager', 'stinuslindgreen'),\n",
       "           ('Wolfgang Kamptner', 'Knutti_ETH'),\n",
       "           ('Bibsen 🍀🌿🍃🌱', 'karolinenoehr'),\n",
       "           ('Vogulisi 🐛🐛🍎🐜💜', 'Knutti_ETH'),\n",
       "           ('Merete Sandager', 'CopCap'), ('George', 'TransparencyDK'),\n",
       "           ('Kenny Poulsen', 'jonasholmdk'),\n",
       "           ('Mads Vikkelsø', 'hansersej'),\n",
       "           ('Alexander Kjærsgaard', 'rasmuskongshoej'),\n",
       "           ('αnnα klein', 'rasmuskongshoej'),\n",
       "           ('Anders Baggesgaard', 'jonasholmdk'),\n",
       "           ('Annett Rios', 'GunverLillevang'),\n",
       "           ('Claus Drastrup', 'DRNyheder'),\n",
       "           ('Bibsen 🍀🌿🍃🌱', 'jonasholmdk'), ('Anne Paulin', 'dr2deadline'),\n",
       "           ('Politik Papegøjen🦜', 'dr2deadline'),\n",
       "           ('Baranida', 'juergenzimmerer'),\n",
       "           ('Bibsen 🍀🌿🍃🌱', 'dr2deadline'),\n",
       "           ('Michael Hastrup', 'dr2deadline'),\n",
       "           ('Tɯitterhjerne', 'Mikk900k'), ('Elias Kragh', 'ppkzd'),\n",
       "           ('Annett Rios', 'TorbenLl1'), ('Mikkel Hansen', 'TorbenLl1'),\n",
       "           ('jette gefke', 'Joedisksamfund'),\n",
       "           ('Green Kenny You bastards!', 'Korallenherz'),\n",
       "           ('Fungo', 'TaniaGroth'), ('Richard Heim', 'Knutti_ETH'),\n",
       "           ('Stefan Flatt', 'Knutti_ETH'),\n",
       "           ('Lando Page 🏴\\U000e0067\\U000e0062\\U000e0065\\U000e006e\\U000e0067\\U000e007f', 'juergenzimmerer'),\n",
       "           ('Gudrun Thrastar', 'rasmuskongshoej'),\n",
       "           ('Christine Gundermann', 'juergenzimmerer'),\n",
       "           ('Mads Raastrup Søndergaard', 'Ammitzboell_K'),\n",
       "           ('Parcifal 🇩🇰🇸🇪🇪🇺', 'radio4dk'),\n",
       "           ('Rebekka Köppel', 'Knutti_ETH'),\n",
       "           ('Jörg Mertens', 'juergenzimmerer'),\n",
       "           ('Stephan Kormann', 'Knutti_ETH'),\n",
       "           ('Kim W. Christensen ❤️🌹🇩🇰🇩🇰🌹❤️', 'NjylPoliti'),\n",
       "           ('zeisi @ home', 'juergenzimmerer'), ('Fungo', 'SortSonofon'),\n",
       "           ('lone meyer', 'Joedisksamfund'),\n",
       "           ('Christine Grønskov', 'DebattenDR2'),\n",
       "           ('Christine Grønskov', 'DebattenDR2'),\n",
       "           ('Emil Jensen', 'SortSonofon'),\n",
       "           ('Rassismus ODER Demokratie', 'juergenzimmerer'),\n",
       "           ('soundso', 'Knutti_ETH'), ('Kristian Myrhøj', 'kaaretraberg'),\n",
       "           ('Fungo', 'DebattenDR2'), ('Nicolai Kampmann', 'A4Medier'),\n",
       "           ('JANE VON RATHSACH', 'horst_pultz'),\n",
       "           ('Bríd Conneely', 'FrederikSandby'),\n",
       "           ('JakobEldrup', 'mfMorten'),\n",
       "           ('Christian Niepoort', 'mikaelkrist'),\n",
       "           ('Christian Niepoort', 'FrederikSandby'),\n",
       "           ('Pip fra journalist', 'mikaelkrist'),\n",
       "           ('P. Jensen', 'TorbenLl1'),\n",
       "           ('Bríd Conneely', 'fabian_davidsen'),\n",
       "           ('Tobias Rasmussen', 'CarlJohan3000'),\n",
       "           ('Andreas Herzog', 'juergenzimmerer'),\n",
       "           ('turkan balci', 'KobenhavnPoliti'),\n",
       "           ('FaunaPhotonics', 'CopCap'), ('Jensen', 'PegidaDK'),\n",
       "           ('Arthur Dent the 2nd ♓️ 🌍(🏡)', 'Knutti_ETH'),\n",
       "           ('Julius Langkilde', 'donttdk'), ('Milegaard', 'AugustLund0'),\n",
       "           ('Kirsten Sletbjerg', 'PRINTSVONJANE'),\n",
       "           ('Tom Erik Stålung', 'JeanetBAndersen'),\n",
       "           ('davepermen', 'Knutti_ETH'), ('Snyggo 🎄🐘🥓🔫', 'TaniaGroth'),\n",
       "           ('billy shadow', 'juergenzimmerer'),\n",
       "           ('MO News DAilY', 'Knutti_ETH'),\n",
       "           ('Såg det inte komma🦠🇮🇹🇷🇺🇬🇷', 'TaniaGroth'),\n",
       "           ('Ove Larsson', 'TaniaGroth'), ('Bananita', 'juergenzimmerer'),\n",
       "           ('Mads Brandsen', 'najadandanell'),\n",
       "           ('Keld Michael Sorensen (keldmichael).', 'viggo1986'),\n",
       "           ('Mogens Hallwyl', 'sor1steenupdate'),\n",
       "           ('Christian Moser', 'juergenzimmerer'),\n",
       "           ('Mads Brandsen', 'MichaelsMedie'),\n",
       "           ('🇩🇰_Totde_ 🇩🇰', 'horst_pultz'),\n",
       "           ('(((zumsaru)))', 'juergenzimmerer'),\n",
       "           ('Morten Sjøgren', 'RasmusMalver'),\n",
       "           ('Steen højgaard jense', 'Susanne_Zimmer_'),\n",
       "           ('Chi Hon 韓志', 'tv2politik'), ('E B 🇩🇰', 'Lars_Ras_'),\n",
       "           ('Lise Vestergaard', 'taagf2019'),\n",
       "           ('Lise Vestergaard', 'mr_sor'), ('𝓐𝓷𝓭𝓻𝓮𝓪𝓼', 'jwcph'),\n",
       "           ('Torsten Kolind', 'danielnyboe'), ('سونيا', 'cekicozlem'),\n",
       "           ('Teodora Hansen', 'annette_benette'),\n",
       "           ('Lasse Brandt 🇩🇰', 'annette_benette'),\n",
       "           ('ÖkoLinX-Antirassistische Liste', 'juergenzimmerer'),\n",
       "           ('Karl Heinz Häsliprinz', 'juergenzimmerer'),\n",
       "           ('Zeb Meier Watz', 'karolinenoehr'), ('Ｖａｄｓｔｅｎ', 'pomaEB'),\n",
       "           ('Tɯitterhjerne', 'KristianLauesen'), ('GS', 'Knutti_ETH'),\n",
       "           ('Trine Hammershøy', 'FSpsyksygepleje'),\n",
       "           ('Robert Grandt', 'JanVilladsen3F'),\n",
       "           ('Henrik #freeAssange #savelifeonEarth', 'HenrikHerl'),\n",
       "           ('glp Thurgau', 'Knutti_ETH'),\n",
       "           ('Benny T 🇪🇺 🇩🇰 🌱💜', 'cekicozlem'), ('Paul4623', 'uffeelbaek'),\n",
       "           ('Brian Andersen', 'cekicozlem'),\n",
       "           ('Benny T 🇪🇺 🇩🇰 🌱💜', 'cekicozlem'),\n",
       "           ('E. Jensen 🇩🇰 (https://gab.com/BulgariaDK', 'MarieKrarup'),\n",
       "           ('Pip fra politiker', 'MarieKrarup'), ('Fru Welsh', 'pomaEB'),\n",
       "           ('E. Jensen 🇩🇰 (https://gab.com/BulgariaDK', 'DeTomater'),\n",
       "           ('E. Jensen 🇩🇰 (https://gab.com/BulgariaDK', 'theMartiMartin'),\n",
       "           ('Carsten Dybkjaer', 'LaerkeElbil'),\n",
       "           ('Kjeld Gaard-Frederiksen', 'cekicozlem'),\n",
       "           ('Kjeld Gaard-Frederiksen', 'kaaretraberg'),\n",
       "           ('Nikolaj Villumsen', 'RosaLundEl'),\n",
       "           ('Pip fra politiker', 'RosaLundEl')],\n",
       "          dtype=[('user', 'O'), ('retweeted_user', 'O')])"
      ]
     },
     "execution_count": 6,
     "metadata": {},
     "output_type": "execute_result"
    }
   ],
   "source": [
    "edges_retweet\n",
    "#This is truples, below. Here you have network x \n"
   ]
  },
  {
   "cell_type": "code",
   "execution_count": 7,
   "metadata": {},
   "outputs": [
    {
     "data": {
      "text/plain": [
       "'Ørum'"
      ]
     },
     "execution_count": 7,
     "metadata": {},
     "output_type": "execute_result"
    }
   ],
   "source": [
    "edges_retweet [0] [0]\n",
    "#Here we take the first part of the truple"
   ]
  },
  {
   "cell_type": "code",
   "execution_count": 8,
   "metadata": {},
   "outputs": [
    {
     "data": {
      "text/plain": [
       "rec.array([('Ørum', 'larskohler'),\n",
       "           ('De Grønne - DKs Grønne Liberale Parti', 'jonasholmdk'),\n",
       "           ('De Grønne - DKs Grønne Liberale Parti', 'jonasholmdk'),\n",
       "           ('MarcoMcFly', 'Knutti_ETH'), ('Ivan', 'Jeannevetling'),\n",
       "           ('Marcel W', 'Knutti_ETH'), ('Caja Jensen', 'stiftendk'),\n",
       "           ('Michaela Rousing ❄', 'OjylPoliti'),\n",
       "           ('Martin Gertsch', 'Knutti_ETH'), ('Pernille 🚯', 'jwcph')],\n",
       "          dtype=[('user', 'O'), ('retweeted_user', 'O')])"
      ]
     },
     "execution_count": 8,
     "metadata": {},
     "output_type": "execute_result"
    }
   ],
   "source": [
    "edges_retweet [0:10]"
   ]
  },
  {
   "cell_type": "code",
   "execution_count": 9,
   "metadata": {},
   "outputs": [],
   "source": [
    "# Construct a directed graph\n",
    "digraph_retweet = nx.DiGraph()"
   ]
  },
  {
   "cell_type": "code",
   "execution_count": 10,
   "metadata": {},
   "outputs": [
    {
     "data": {
      "text/plain": [
       "<networkx.classes.digraph.DiGraph at 0xa24b45890>"
      ]
     },
     "execution_count": 10,
     "metadata": {},
     "output_type": "execute_result"
    }
   ],
   "source": [
    "digraph_retweet\n",
    "#Here we get the code"
   ]
  },
  {
   "cell_type": "code",
   "execution_count": 11,
   "metadata": {},
   "outputs": [],
   "source": [
    "# A directed graph takes an list of tuples.\n",
    "digraph_retweet.add_edges_from(edges_retweet)"
   ]
  },
  {
   "cell_type": "code",
   "execution_count": 13,
   "metadata": {},
   "outputs": [
    {
     "data": {
      "text/plain": [
       "(257, 197)"
      ]
     },
     "execution_count": 13,
     "metadata": {},
     "output_type": "execute_result"
    }
   ],
   "source": [
    "# return number of nodes and edges\n",
    "digraph_retweet.number_of_nodes(), digraph_retweet.number_of_edges()"
   ]
  },
  {
   "cell_type": "code",
   "execution_count": 14,
   "metadata": {},
   "outputs": [
    {
     "ename": "NameError",
     "evalue": "name 'digraph' is not defined",
     "output_type": "error",
     "traceback": [
      "\u001b[0;31m---------------------------------------------------------------------------\u001b[0m",
      "\u001b[0;31mNameError\u001b[0m                                 Traceback (most recent call last)",
      "\u001b[0;32m<ipython-input-14-f9edb1294106>\u001b[0m in \u001b[0;36m<module>\u001b[0;34m\u001b[0m\n\u001b[1;32m      1\u001b[0m \u001b[0;31m# Calculate indegree and turn into a dictionary\u001b[0m\u001b[0;34m\u001b[0m\u001b[0;34m\u001b[0m\u001b[0;34m\u001b[0m\u001b[0m\n\u001b[0;32m----> 2\u001b[0;31m \u001b[0moutdegree_retweet\u001b[0m \u001b[0;34m=\u001b[0m \u001b[0mdigraph\u001b[0m\u001b[0;34m.\u001b[0m\u001b[0moutdegree\u001b[0m\u001b[0;34m(\u001b[0m\u001b[0;34m)\u001b[0m\u001b[0;34m\u001b[0m\u001b[0;34m\u001b[0m\u001b[0m\n\u001b[0m\u001b[1;32m      3\u001b[0m \u001b[0moutdegree_retweet_d\u001b[0m \u001b[0;34m=\u001b[0m \u001b[0mdict\u001b[0m\u001b[0;34m(\u001b[0m\u001b[0moutdegree\u001b[0m\u001b[0;34m)\u001b[0m\u001b[0;34m\u001b[0m\u001b[0;34m\u001b[0m\u001b[0m\n\u001b[1;32m      4\u001b[0m \u001b[0;31m#The indegree gives you the inner edges\u001b[0m\u001b[0;34m\u001b[0m\u001b[0;34m\u001b[0m\u001b[0;34m\u001b[0m\u001b[0m\n\u001b[1;32m      5\u001b[0m \u001b[0;34m\u001b[0m\u001b[0m\n",
      "\u001b[0;31mNameError\u001b[0m: name 'digraph' is not defined"
     ]
    }
   ],
   "source": [
    "# Calculate indegree and turn into a dictionary\n",
    "outdegree_retweet = digraph.outdegree()\n",
    "outdegree_retweet_d = dict(outdegree)\n",
    "#The indegree gives you the inner edges \n",
    "\n",
    "# Turn in_degree into a series\n",
    "outdegree_retweet_s = pd.Series(outdegree_d)"
   ]
  },
  {
   "cell_type": "code",
   "execution_count": null,
   "metadata": {},
   "outputs": [],
   "source": [
    "#there is a mistake in this notebook. Hjalmar will make a new one"
   ]
  },
  {
   "cell_type": "code",
   "execution_count": 52,
   "metadata": {},
   "outputs": [
    {
     "ename": "NameError",
     "evalue": "name 'outdegree_retweet_s' is not defined",
     "output_type": "error",
     "traceback": [
      "\u001b[0;31m---------------------------------------------------------------------------\u001b[0m",
      "\u001b[0;31mNameError\u001b[0m                                 Traceback (most recent call last)",
      "\u001b[0;32m<ipython-input-52-e9c8a225ec24>\u001b[0m in \u001b[0;36m<module>\u001b[0;34m\u001b[0m\n\u001b[0;32m----> 1\u001b[0;31m \u001b[0moutdegree_retweet_s\u001b[0m\u001b[0;34m\u001b[0m\u001b[0;34m\u001b[0m\u001b[0m\n\u001b[0m",
      "\u001b[0;31mNameError\u001b[0m: name 'outdegree_retweet_s' is not defined"
     ]
    }
   ],
   "source": [
    "outdegree_retweet_s"
   ]
  },
  {
   "cell_type": "code",
   "execution_count": 39,
   "metadata": {},
   "outputs": [
    {
     "ename": "NameError",
     "evalue": "name 'outdegree_retweet_s' is not defined",
     "output_type": "error",
     "traceback": [
      "\u001b[0;31m---------------------------------------------------------------------------\u001b[0m",
      "\u001b[0;31mNameError\u001b[0m                                 Traceback (most recent call last)",
      "\u001b[0;32m<ipython-input-39-18e9273d159a>\u001b[0m in \u001b[0;36m<module>\u001b[0;34m\u001b[0m\n\u001b[1;32m      1\u001b[0m \u001b[0;31m# View most retweeted users for qualitative insepction.\u001b[0m\u001b[0;34m\u001b[0m\u001b[0;34m\u001b[0m\u001b[0;34m\u001b[0m\u001b[0m\n\u001b[0;32m----> 2\u001b[0;31m \u001b[0moutdegree_retweet_s\u001b[0m\u001b[0;34m.\u001b[0m\u001b[0mnlargest\u001b[0m\u001b[0;34m(\u001b[0m\u001b[0;36m20\u001b[0m\u001b[0;34m)\u001b[0m\u001b[0;34m\u001b[0m\u001b[0;34m\u001b[0m\u001b[0m\n\u001b[0m\u001b[1;32m      3\u001b[0m \u001b[0;31m#Here we view the largest 20 scores within a series\u001b[0m\u001b[0;34m\u001b[0m\u001b[0;34m\u001b[0m\u001b[0;34m\u001b[0m\u001b[0m\n",
      "\u001b[0;31mNameError\u001b[0m: name 'outdegree_retweet_s' is not defined"
     ]
    }
   ],
   "source": [
    "# View most retweeted users for qualitative insepction. \n",
    "outdegree_retweet_s.nlargest(20)\n",
    "#Here we view the largest 20 scores within a series"
   ]
  },
  {
   "cell_type": "code",
   "execution_count": 40,
   "metadata": {},
   "outputs": [
    {
     "ename": "NameError",
     "evalue": "name 'outdegree_retweet_s' is not defined",
     "output_type": "error",
     "traceback": [
      "\u001b[0;31m---------------------------------------------------------------------------\u001b[0m",
      "\u001b[0;31mNameError\u001b[0m                                 Traceback (most recent call last)",
      "\u001b[0;32m<ipython-input-40-62515ecc4db1>\u001b[0m in \u001b[0;36m<module>\u001b[0;34m\u001b[0m\n\u001b[1;32m      1\u001b[0m \u001b[0;31m# Quick describtion of the indegree distribtion.\u001b[0m\u001b[0;34m\u001b[0m\u001b[0;34m\u001b[0m\u001b[0;34m\u001b[0m\u001b[0m\n\u001b[0;32m----> 2\u001b[0;31m \u001b[0moutdegree_retweet_s\u001b[0m\u001b[0;34m.\u001b[0m\u001b[0mdescribe\u001b[0m\u001b[0;34m(\u001b[0m\u001b[0;34m)\u001b[0m\u001b[0;34m\u001b[0m\u001b[0;34m\u001b[0m\u001b[0m\n\u001b[0m",
      "\u001b[0;31mNameError\u001b[0m: name 'outdegree_retweet_s' is not defined"
     ]
    }
   ],
   "source": [
    "# Quick describtion of the indegree distribtion. \n",
    "outdegree_retweet_s.describe()"
   ]
  },
  {
   "cell_type": "code",
   "execution_count": 41,
   "metadata": {},
   "outputs": [
    {
     "ename": "NameError",
     "evalue": "name 'digraph' is not defined",
     "output_type": "error",
     "traceback": [
      "\u001b[0;31m---------------------------------------------------------------------------\u001b[0m",
      "\u001b[0;31mNameError\u001b[0m                                 Traceback (most recent call last)",
      "\u001b[0;32m<ipython-input-41-062033f45c48>\u001b[0m in \u001b[0;36m<module>\u001b[0;34m\u001b[0m\n\u001b[1;32m      1\u001b[0m \u001b[0;31m# Calculate outdegree and turn into a dictionary\u001b[0m\u001b[0;34m\u001b[0m\u001b[0;34m\u001b[0m\u001b[0;34m\u001b[0m\u001b[0m\n\u001b[0;32m----> 2\u001b[0;31m \u001b[0moutdegree_retweet\u001b[0m \u001b[0;34m=\u001b[0m \u001b[0mdigraph\u001b[0m\u001b[0;34m.\u001b[0m\u001b[0mout_degree\u001b[0m\u001b[0;34m(\u001b[0m\u001b[0;34m)\u001b[0m\u001b[0;34m\u001b[0m\u001b[0;34m\u001b[0m\u001b[0m\n\u001b[0m\u001b[1;32m      3\u001b[0m \u001b[0moutdegree_retweet_d\u001b[0m \u001b[0;34m=\u001b[0m \u001b[0mdict\u001b[0m\u001b[0;34m(\u001b[0m\u001b[0moutdegree\u001b[0m\u001b[0;34m)\u001b[0m\u001b[0;34m\u001b[0m\u001b[0;34m\u001b[0m\u001b[0m\n",
      "\u001b[0;31mNameError\u001b[0m: name 'digraph' is not defined"
     ]
    }
   ],
   "source": [
    "# Calculate outdegree and turn into a dictionary\n",
    "outdegree_retweet = digraph.out_degree()\n",
    "outdegree_retweet_d = dict(outdegree)"
   ]
  },
  {
   "cell_type": "code",
   "execution_count": 44,
   "metadata": {},
   "outputs": [
    {
     "ename": "NameError",
     "evalue": "name 'outdegree_d' is not defined",
     "output_type": "error",
     "traceback": [
      "\u001b[0;31m---------------------------------------------------------------------------\u001b[0m",
      "\u001b[0;31mNameError\u001b[0m                                 Traceback (most recent call last)",
      "\u001b[0;32m<ipython-input-44-b8a0fa96bdfc>\u001b[0m in \u001b[0;36m<module>\u001b[0;34m\u001b[0m\n\u001b[1;32m      1\u001b[0m \u001b[0;31m# Turn out_degree into a series\u001b[0m\u001b[0;34m\u001b[0m\u001b[0;34m\u001b[0m\u001b[0;34m\u001b[0m\u001b[0m\n\u001b[0;32m----> 2\u001b[0;31m \u001b[0moutdegree_retweet_s\u001b[0m \u001b[0;34m=\u001b[0m \u001b[0mpd\u001b[0m\u001b[0;34m.\u001b[0m\u001b[0mSeries\u001b[0m\u001b[0;34m(\u001b[0m\u001b[0moutdegree_d\u001b[0m\u001b[0;34m)\u001b[0m\u001b[0;34m\u001b[0m\u001b[0;34m\u001b[0m\u001b[0m\n\u001b[0m",
      "\u001b[0;31mNameError\u001b[0m: name 'outdegree_d' is not defined"
     ]
    }
   ],
   "source": [
    "# Turn out_degree into a series\n",
    "outdegree_retweet_s = pd.Series(outdegree_d)"
   ]
  },
  {
   "cell_type": "code",
   "execution_count": 43,
   "metadata": {},
   "outputs": [
    {
     "ename": "NameError",
     "evalue": "name 'outdegree_retweet_s' is not defined",
     "output_type": "error",
     "traceback": [
      "\u001b[0;31m---------------------------------------------------------------------------\u001b[0m",
      "\u001b[0;31mNameError\u001b[0m                                 Traceback (most recent call last)",
      "\u001b[0;32m<ipython-input-43-a6bb23cbae19>\u001b[0m in \u001b[0;36m<module>\u001b[0;34m\u001b[0m\n\u001b[0;32m----> 1\u001b[0;31m \u001b[0moutdegree_retweet_s\u001b[0m\u001b[0;34m.\u001b[0m\u001b[0mnlargest\u001b[0m\u001b[0;34m(\u001b[0m\u001b[0;36m20\u001b[0m\u001b[0;34m)\u001b[0m\u001b[0;34m\u001b[0m\u001b[0;34m\u001b[0m\u001b[0m\n\u001b[0m",
      "\u001b[0;31mNameError\u001b[0m: name 'outdegree_retweet_s' is not defined"
     ]
    }
   ],
   "source": [
    "outdegree_retweet_s.nlargest(20)"
   ]
  },
  {
   "cell_type": "markdown",
   "metadata": {},
   "source": [
    "# Reply network\n",
    "\n",
    "We will import csv on reply into a dataframe. Make it into a list of edges that networkx can transform into a network. We will then calculate indegree and inspect the most talked to actors in the corona issue. \n",
    "\n",
    "We will likewise calculate the out degree to see who is the most dialogical actors in the Twitter corona issue public."
   ]
  },
  {
   "cell_type": "code",
   "execution_count": 64,
   "metadata": {},
   "outputs": [],
   "source": [
    "#Now we moce on to reply network where people are having some kind of dialog. Who are the actors who are very engaged?\n",
    "# importing retweet edges list. 'user' is the one \n",
    "# twitting and 'retweeted_user' is being retweeted.\n",
    "df_reply_edges = pd.read_csv('reply_edges_test.csv')"
   ]
  },
  {
   "cell_type": "code",
   "execution_count": 65,
   "metadata": {},
   "outputs": [
    {
     "data": {
      "text/html": [
       "<div>\n",
       "<style scoped>\n",
       "    .dataframe tbody tr th:only-of-type {\n",
       "        vertical-align: middle;\n",
       "    }\n",
       "\n",
       "    .dataframe tbody tr th {\n",
       "        vertical-align: top;\n",
       "    }\n",
       "\n",
       "    .dataframe thead th {\n",
       "        text-align: right;\n",
       "    }\n",
       "</style>\n",
       "<table border=\"1\" class=\"dataframe\">\n",
       "  <thead>\n",
       "    <tr style=\"text-align: right;\">\n",
       "      <th></th>\n",
       "      <th>user</th>\n",
       "      <th>reply_to_user</th>\n",
       "    </tr>\n",
       "  </thead>\n",
       "  <tbody>\n",
       "    <tr>\n",
       "      <td>0</td>\n",
       "      <td>Jonas Holm</td>\n",
       "      <td>jonasholmdk</td>\n",
       "    </tr>\n",
       "    <tr>\n",
       "      <td>1</td>\n",
       "      <td>Frank Rosager</td>\n",
       "      <td>Dursten</td>\n",
       "    </tr>\n",
       "    <tr>\n",
       "      <td>2</td>\n",
       "      <td>André Nielsen</td>\n",
       "      <td>pmk8080</td>\n",
       "    </tr>\n",
       "    <tr>\n",
       "      <td>3</td>\n",
       "      <td>Freddy Nielsen</td>\n",
       "      <td>liberty_dane</td>\n",
       "    </tr>\n",
       "    <tr>\n",
       "      <td>4</td>\n",
       "      <td>Nicolai</td>\n",
       "      <td>SimoneMN</td>\n",
       "    </tr>\n",
       "    <tr>\n",
       "      <td>...</td>\n",
       "      <td>...</td>\n",
       "      <td>...</td>\n",
       "    </tr>\n",
       "    <tr>\n",
       "      <td>195</td>\n",
       "      <td>John Martin Holm</td>\n",
       "      <td>sorenpind</td>\n",
       "    </tr>\n",
       "    <tr>\n",
       "      <td>196</td>\n",
       "      <td>Per W Jensen</td>\n",
       "      <td>nissen_bodil</td>\n",
       "    </tr>\n",
       "    <tr>\n",
       "      <td>197</td>\n",
       "      <td>Jan E. Darling</td>\n",
       "      <td>LarsArneC</td>\n",
       "    </tr>\n",
       "    <tr>\n",
       "      <td>198</td>\n",
       "      <td>Lars Skou Nielsen</td>\n",
       "      <td>NVMHP</td>\n",
       "    </tr>\n",
       "    <tr>\n",
       "      <td>199</td>\n",
       "      <td>Mogens Havnsøe</td>\n",
       "      <td>trsoe</td>\n",
       "    </tr>\n",
       "  </tbody>\n",
       "</table>\n",
       "<p>200 rows × 2 columns</p>\n",
       "</div>"
      ],
      "text/plain": [
       "                  user reply_to_user\n",
       "0           Jonas Holm   jonasholmdk\n",
       "1        Frank Rosager       Dursten\n",
       "2        André Nielsen       pmk8080\n",
       "3       Freddy Nielsen  liberty_dane\n",
       "4              Nicolai      SimoneMN\n",
       "..                 ...           ...\n",
       "195   John Martin Holm     sorenpind\n",
       "196       Per W Jensen  nissen_bodil\n",
       "197     Jan E. Darling     LarsArneC\n",
       "198  Lars Skou Nielsen         NVMHP\n",
       "199     Mogens Havnsøe         trsoe\n",
       "\n",
       "[200 rows x 2 columns]"
      ]
     },
     "execution_count": 65,
     "metadata": {},
     "output_type": "execute_result"
    }
   ],
   "source": [
    "# Here we make it into a list of truples again and build our network\n",
    "df_reply_edges"
   ]
  },
  {
   "cell_type": "code",
   "execution_count": 67,
   "metadata": {},
   "outputs": [],
   "source": [
    "reply_edges = df_reply_edges.to_records(index=False)\n",
    "digraph_reply = nx.DiGraph()\n",
    "digraph_reply.add_edges_from(reply_edges)"
   ]
  },
  {
   "cell_type": "code",
   "execution_count": 68,
   "metadata": {},
   "outputs": [
    {
     "data": {
      "text/plain": [
       "<bound method DiGraph.add_edges_from of <networkx.classes.digraph.DiGraph object at 0xa24d50810>>"
      ]
     },
     "execution_count": 68,
     "metadata": {},
     "output_type": "execute_result"
    }
   ],
   "source": [
    "digraph_reply.add_edges_from"
   ]
  },
  {
   "cell_type": "code",
   "execution_count": 69,
   "metadata": {},
   "outputs": [
    {
     "data": {
      "text/plain": [
       "cekicozlem         6\n",
       "JanEJoergensen     5\n",
       "emilholmcph        3\n",
       "RunestenConsult    3\n",
       "KatrineVillar      3\n",
       "                  ..\n",
       "MFVMin             1\n",
       "OleHauris          1\n",
       "Janus18752879      1\n",
       "04b11dk            1\n",
       "pitbulltroldma2    1\n",
       "Length: 100, dtype: int64"
      ]
     },
     "execution_count": 69,
     "metadata": {},
     "output_type": "execute_result"
    }
   ],
   "source": [
    "# Calculate indegree and turn into a dictionary\n",
    "indegree_reply = digraph_reply.in_degree()\n",
    "indegree_reply_d = dict(indegree_reply)\n",
    "# from dict to series\n",
    "indegree_reply_s = pd.Series(indegree_reply_d) \n",
    "indegree_reply_s.nlargest(100)\n",
    "# Here we can see who sparks the most conversation\n",
    "# indegree is all the edges that comes to you. An outdegree is when you point to someone else. "
   ]
  },
  {
   "cell_type": "markdown",
   "metadata": {},
   "source": [
    "# Hashtag network\n",
    "\n",
    "We will import csv on hashtags-user relations into a dataframe. Make it into a list of edges that networkx can transform into a network. We will then calculate indegree and inspect the most talked to actors in the corona issue. \n",
    "\n",
    "We will likewise calculate the out degree to see who is the most dialogical actors in the Twitter corona issue public."
   ]
  },
  {
   "cell_type": "code",
   "execution_count": 74,
   "metadata": {},
   "outputs": [],
   "source": [
    "#Here we have a hashtag column \n",
    "df_hashtags = pd.read_csv('hashtags_test.csv')"
   ]
  },
  {
   "cell_type": "code",
   "execution_count": 76,
   "metadata": {},
   "outputs": [
    {
     "data": {
      "text/html": [
       "<div>\n",
       "<style scoped>\n",
       "    .dataframe tbody tr th:only-of-type {\n",
       "        vertical-align: middle;\n",
       "    }\n",
       "\n",
       "    .dataframe tbody tr th {\n",
       "        vertical-align: top;\n",
       "    }\n",
       "\n",
       "    .dataframe thead th {\n",
       "        text-align: right;\n",
       "    }\n",
       "</style>\n",
       "<table border=\"1\" class=\"dataframe\">\n",
       "  <thead>\n",
       "    <tr style=\"text-align: right;\">\n",
       "      <th></th>\n",
       "      <th>hashtags</th>\n",
       "    </tr>\n",
       "  </thead>\n",
       "  <tbody>\n",
       "    <tr>\n",
       "      <td>0</td>\n",
       "      <td>[]</td>\n",
       "    </tr>\n",
       "    <tr>\n",
       "      <td>1</td>\n",
       "      <td>['dkpol', 'dkcivil', 'spejder']</td>\n",
       "    </tr>\n",
       "    <tr>\n",
       "      <td>2</td>\n",
       "      <td>['dkpol']</td>\n",
       "    </tr>\n",
       "    <tr>\n",
       "      <td>3</td>\n",
       "      <td>[]</td>\n",
       "    </tr>\n",
       "    <tr>\n",
       "      <td>4</td>\n",
       "      <td>[]</td>\n",
       "    </tr>\n",
       "    <tr>\n",
       "      <td>5</td>\n",
       "      <td>['dkmedier', 'dkpol']</td>\n",
       "    </tr>\n",
       "    <tr>\n",
       "      <td>6</td>\n",
       "      <td>[]</td>\n",
       "    </tr>\n",
       "    <tr>\n",
       "      <td>7</td>\n",
       "      <td>['dkpol', 'dkgreen']</td>\n",
       "    </tr>\n",
       "    <tr>\n",
       "      <td>8</td>\n",
       "      <td>[]</td>\n",
       "    </tr>\n",
       "    <tr>\n",
       "      <td>9</td>\n",
       "      <td>['dkpol']</td>\n",
       "    </tr>\n",
       "  </tbody>\n",
       "</table>\n",
       "</div>"
      ],
      "text/plain": [
       "                          hashtags\n",
       "0                               []\n",
       "1  ['dkpol', 'dkcivil', 'spejder']\n",
       "2                        ['dkpol']\n",
       "3                               []\n",
       "4                               []\n",
       "5            ['dkmedier', 'dkpol']\n",
       "6                               []\n",
       "7             ['dkpol', 'dkgreen']\n",
       "8                               []\n",
       "9                        ['dkpol']"
      ]
     },
     "execution_count": 76,
     "metadata": {},
     "output_type": "execute_result"
    }
   ],
   "source": [
    "df_hashtags[:10]\n",
    "#Here python sees all the hashtags as strings and not lists"
   ]
  },
  {
   "cell_type": "code",
   "execution_count": null,
   "metadata": {},
   "outputs": [],
   "source": [
    "# In the above we can see that some hashtags has to do with each other, they co-occur "
   ]
  },
  {
   "cell_type": "code",
   "execution_count": 79,
   "metadata": {},
   "outputs": [
    {
     "data": {
      "text/plain": [
       "0                             []\n",
       "1      [dkpol, dkcivil, spejder]\n",
       "2                        [dkpol]\n",
       "3                             []\n",
       "4                             []\n",
       "                 ...            \n",
       "295                           []\n",
       "296                           []\n",
       "297                      [dkpol]\n",
       "298            [dkpol, dkmedier]\n",
       "299                           []\n",
       "Name: hashtags, Length: 300, dtype: object"
      ]
     },
     "execution_count": 79,
     "metadata": {},
     "output_type": "execute_result"
    }
   ],
   "source": [
    "df_hashtags['hashtags']"
   ]
  },
  {
   "cell_type": "code",
   "execution_count": 82,
   "metadata": {},
   "outputs": [
    {
     "ename": "ValueError",
     "evalue": "malformed node or string: []",
     "output_type": "error",
     "traceback": [
      "\u001b[0;31m---------------------------------------------------------------------------\u001b[0m",
      "\u001b[0;31mValueError\u001b[0m                                Traceback (most recent call last)",
      "\u001b[0;32m<ipython-input-82-80e9e20760a1>\u001b[0m in \u001b[0;36m<module>\u001b[0;34m\u001b[0m\n\u001b[1;32m      2\u001b[0m \u001b[0;31m# that it in fact is a python list.\u001b[0m\u001b[0;34m\u001b[0m\u001b[0;34m\u001b[0m\u001b[0;34m\u001b[0m\u001b[0m\n\u001b[1;32m      3\u001b[0m \u001b[0;32mimport\u001b[0m \u001b[0mast\u001b[0m\u001b[0;34m\u001b[0m\u001b[0;34m\u001b[0m\u001b[0m\n\u001b[0;32m----> 4\u001b[0;31m \u001b[0mhashtag_list_of_list\u001b[0m \u001b[0;34m=\u001b[0m \u001b[0;34m[\u001b[0m\u001b[0mast\u001b[0m\u001b[0;34m.\u001b[0m\u001b[0mliteral_eval\u001b[0m\u001b[0;34m(\u001b[0m\u001b[0mhashtags\u001b[0m\u001b[0;34m)\u001b[0m \u001b[0;32mfor\u001b[0m \u001b[0mhashtags\u001b[0m \u001b[0;32min\u001b[0m \u001b[0mdf_hashtags\u001b[0m\u001b[0;34m[\u001b[0m\u001b[0;34m'hashtags'\u001b[0m\u001b[0;34m]\u001b[0m\u001b[0;34m]\u001b[0m\u001b[0;34m\u001b[0m\u001b[0;34m\u001b[0m\u001b[0m\n\u001b[0m\u001b[1;32m      5\u001b[0m \u001b[0mdf_hashtags\u001b[0m\u001b[0;34m[\u001b[0m\u001b[0;34m'hashtags'\u001b[0m\u001b[0;34m]\u001b[0m \u001b[0;34m=\u001b[0m \u001b[0mhashtag_list_of_list\u001b[0m\u001b[0;34m\u001b[0m\u001b[0;34m\u001b[0m\u001b[0m\n",
      "\u001b[0;32m<ipython-input-82-80e9e20760a1>\u001b[0m in \u001b[0;36m<listcomp>\u001b[0;34m(.0)\u001b[0m\n\u001b[1;32m      2\u001b[0m \u001b[0;31m# that it in fact is a python list.\u001b[0m\u001b[0;34m\u001b[0m\u001b[0;34m\u001b[0m\u001b[0;34m\u001b[0m\u001b[0m\n\u001b[1;32m      3\u001b[0m \u001b[0;32mimport\u001b[0m \u001b[0mast\u001b[0m\u001b[0;34m\u001b[0m\u001b[0;34m\u001b[0m\u001b[0m\n\u001b[0;32m----> 4\u001b[0;31m \u001b[0mhashtag_list_of_list\u001b[0m \u001b[0;34m=\u001b[0m \u001b[0;34m[\u001b[0m\u001b[0mast\u001b[0m\u001b[0;34m.\u001b[0m\u001b[0mliteral_eval\u001b[0m\u001b[0;34m(\u001b[0m\u001b[0mhashtags\u001b[0m\u001b[0;34m)\u001b[0m \u001b[0;32mfor\u001b[0m \u001b[0mhashtags\u001b[0m \u001b[0;32min\u001b[0m \u001b[0mdf_hashtags\u001b[0m\u001b[0;34m[\u001b[0m\u001b[0;34m'hashtags'\u001b[0m\u001b[0;34m]\u001b[0m\u001b[0;34m]\u001b[0m\u001b[0;34m\u001b[0m\u001b[0;34m\u001b[0m\u001b[0m\n\u001b[0m\u001b[1;32m      5\u001b[0m \u001b[0mdf_hashtags\u001b[0m\u001b[0;34m[\u001b[0m\u001b[0;34m'hashtags'\u001b[0m\u001b[0;34m]\u001b[0m \u001b[0;34m=\u001b[0m \u001b[0mhashtag_list_of_list\u001b[0m\u001b[0;34m\u001b[0m\u001b[0;34m\u001b[0m\u001b[0m\n",
      "\u001b[0;32m/opt/anaconda3/lib/python3.7/ast.py\u001b[0m in \u001b[0;36mliteral_eval\u001b[0;34m(node_or_string)\u001b[0m\n\u001b[1;32m     89\u001b[0m                     \u001b[0;32mreturn\u001b[0m \u001b[0mleft\u001b[0m \u001b[0;34m-\u001b[0m \u001b[0mright\u001b[0m\u001b[0;34m\u001b[0m\u001b[0;34m\u001b[0m\u001b[0m\n\u001b[1;32m     90\u001b[0m         \u001b[0;32mreturn\u001b[0m \u001b[0m_convert_signed_num\u001b[0m\u001b[0;34m(\u001b[0m\u001b[0mnode\u001b[0m\u001b[0;34m)\u001b[0m\u001b[0;34m\u001b[0m\u001b[0;34m\u001b[0m\u001b[0m\n\u001b[0;32m---> 91\u001b[0;31m     \u001b[0;32mreturn\u001b[0m \u001b[0m_convert\u001b[0m\u001b[0;34m(\u001b[0m\u001b[0mnode_or_string\u001b[0m\u001b[0;34m)\u001b[0m\u001b[0;34m\u001b[0m\u001b[0;34m\u001b[0m\u001b[0m\n\u001b[0m\u001b[1;32m     92\u001b[0m \u001b[0;34m\u001b[0m\u001b[0m\n\u001b[1;32m     93\u001b[0m \u001b[0;34m\u001b[0m\u001b[0m\n",
      "\u001b[0;32m/opt/anaconda3/lib/python3.7/ast.py\u001b[0m in \u001b[0;36m_convert\u001b[0;34m(node)\u001b[0m\n\u001b[1;32m     88\u001b[0m                 \u001b[0;32melse\u001b[0m\u001b[0;34m:\u001b[0m\u001b[0;34m\u001b[0m\u001b[0;34m\u001b[0m\u001b[0m\n\u001b[1;32m     89\u001b[0m                     \u001b[0;32mreturn\u001b[0m \u001b[0mleft\u001b[0m \u001b[0;34m-\u001b[0m \u001b[0mright\u001b[0m\u001b[0;34m\u001b[0m\u001b[0;34m\u001b[0m\u001b[0m\n\u001b[0;32m---> 90\u001b[0;31m         \u001b[0;32mreturn\u001b[0m \u001b[0m_convert_signed_num\u001b[0m\u001b[0;34m(\u001b[0m\u001b[0mnode\u001b[0m\u001b[0;34m)\u001b[0m\u001b[0;34m\u001b[0m\u001b[0;34m\u001b[0m\u001b[0m\n\u001b[0m\u001b[1;32m     91\u001b[0m     \u001b[0;32mreturn\u001b[0m \u001b[0m_convert\u001b[0m\u001b[0;34m(\u001b[0m\u001b[0mnode_or_string\u001b[0m\u001b[0;34m)\u001b[0m\u001b[0;34m\u001b[0m\u001b[0;34m\u001b[0m\u001b[0m\n\u001b[1;32m     92\u001b[0m \u001b[0;34m\u001b[0m\u001b[0m\n",
      "\u001b[0;32m/opt/anaconda3/lib/python3.7/ast.py\u001b[0m in \u001b[0;36m_convert_signed_num\u001b[0;34m(node)\u001b[0m\n\u001b[1;32m     61\u001b[0m             \u001b[0;32melse\u001b[0m\u001b[0;34m:\u001b[0m\u001b[0;34m\u001b[0m\u001b[0;34m\u001b[0m\u001b[0m\n\u001b[1;32m     62\u001b[0m                 \u001b[0;32mreturn\u001b[0m \u001b[0;34m-\u001b[0m \u001b[0moperand\u001b[0m\u001b[0;34m\u001b[0m\u001b[0;34m\u001b[0m\u001b[0m\n\u001b[0;32m---> 63\u001b[0;31m         \u001b[0;32mreturn\u001b[0m \u001b[0m_convert_num\u001b[0m\u001b[0;34m(\u001b[0m\u001b[0mnode\u001b[0m\u001b[0;34m)\u001b[0m\u001b[0;34m\u001b[0m\u001b[0;34m\u001b[0m\u001b[0m\n\u001b[0m\u001b[1;32m     64\u001b[0m     \u001b[0;32mdef\u001b[0m \u001b[0m_convert\u001b[0m\u001b[0;34m(\u001b[0m\u001b[0mnode\u001b[0m\u001b[0;34m)\u001b[0m\u001b[0;34m:\u001b[0m\u001b[0;34m\u001b[0m\u001b[0;34m\u001b[0m\u001b[0m\n\u001b[1;32m     65\u001b[0m         \u001b[0;32mif\u001b[0m \u001b[0misinstance\u001b[0m\u001b[0;34m(\u001b[0m\u001b[0mnode\u001b[0m\u001b[0;34m,\u001b[0m \u001b[0mConstant\u001b[0m\u001b[0;34m)\u001b[0m\u001b[0;34m:\u001b[0m\u001b[0;34m\u001b[0m\u001b[0;34m\u001b[0m\u001b[0m\n",
      "\u001b[0;32m/opt/anaconda3/lib/python3.7/ast.py\u001b[0m in \u001b[0;36m_convert_num\u001b[0;34m(node)\u001b[0m\n\u001b[1;32m     53\u001b[0m         \u001b[0;32melif\u001b[0m \u001b[0misinstance\u001b[0m\u001b[0;34m(\u001b[0m\u001b[0mnode\u001b[0m\u001b[0;34m,\u001b[0m \u001b[0mNum\u001b[0m\u001b[0;34m)\u001b[0m\u001b[0;34m:\u001b[0m\u001b[0;34m\u001b[0m\u001b[0;34m\u001b[0m\u001b[0m\n\u001b[1;32m     54\u001b[0m             \u001b[0;32mreturn\u001b[0m \u001b[0mnode\u001b[0m\u001b[0;34m.\u001b[0m\u001b[0mn\u001b[0m\u001b[0;34m\u001b[0m\u001b[0;34m\u001b[0m\u001b[0m\n\u001b[0;32m---> 55\u001b[0;31m         \u001b[0;32mraise\u001b[0m \u001b[0mValueError\u001b[0m\u001b[0;34m(\u001b[0m\u001b[0;34m'malformed node or string: '\u001b[0m \u001b[0;34m+\u001b[0m \u001b[0mrepr\u001b[0m\u001b[0;34m(\u001b[0m\u001b[0mnode\u001b[0m\u001b[0;34m)\u001b[0m\u001b[0;34m)\u001b[0m\u001b[0;34m\u001b[0m\u001b[0;34m\u001b[0m\u001b[0m\n\u001b[0m\u001b[1;32m     56\u001b[0m     \u001b[0;32mdef\u001b[0m \u001b[0m_convert_signed_num\u001b[0m\u001b[0;34m(\u001b[0m\u001b[0mnode\u001b[0m\u001b[0;34m)\u001b[0m\u001b[0;34m:\u001b[0m\u001b[0;34m\u001b[0m\u001b[0;34m\u001b[0m\u001b[0m\n\u001b[1;32m     57\u001b[0m         \u001b[0;32mif\u001b[0m \u001b[0misinstance\u001b[0m\u001b[0;34m(\u001b[0m\u001b[0mnode\u001b[0m\u001b[0;34m,\u001b[0m \u001b[0mUnaryOp\u001b[0m\u001b[0;34m)\u001b[0m \u001b[0;32mand\u001b[0m \u001b[0misinstance\u001b[0m\u001b[0;34m(\u001b[0m\u001b[0mnode\u001b[0m\u001b[0;34m.\u001b[0m\u001b[0mop\u001b[0m\u001b[0;34m,\u001b[0m \u001b[0;34m(\u001b[0m\u001b[0mUAdd\u001b[0m\u001b[0;34m,\u001b[0m \u001b[0mUSub\u001b[0m\u001b[0;34m)\u001b[0m\u001b[0;34m)\u001b[0m\u001b[0;34m:\u001b[0m\u001b[0;34m\u001b[0m\u001b[0;34m\u001b[0m\u001b[0m\n",
      "\u001b[0;31mValueError\u001b[0m: malformed node or string: []"
     ]
    }
   ],
   "source": [
    "# because of list of hasttag is formate as a string we can use a python library to get python to recognize \n",
    "# that it in fact is a python list. \n",
    "import ast\n",
    "hashtag_list_of_list = [ast.literal_eval(hashtags) for hashtags in df_hashtags['hashtags']]\n",
    "df_hashtags['hashtags'] = hashtag_list_of_list"
   ]
  },
  {
   "cell_type": "code",
   "execution_count": 83,
   "metadata": {},
   "outputs": [],
   "source": [
    "# We run through our list of co-occurring hashtags and build a edgelist \n",
    "# where every hashtag is connected to every other within the same tweet. \n",
    "# We then add tweet edgelist to a egdelist for the whole collection of tweets. \n",
    " \n",
    "edge_list = [] # input for hashtag graph\n",
    "\n",
    "for hashtags in df_hashtags['hashtags']:\n",
    "    G = nx.complete_graph(hashtags) # makes a fully connected graph out of oc-occurring hashtags\n",
    "    G_edgelist = G.edges() # gives us the edgelist\n",
    "    edge_list.extend(G_edgelist) # add the edgelist from tweet to our edgelist for the whole collection of tweets"
   ]
  },
  {
   "cell_type": "code",
   "execution_count": 84,
   "metadata": {},
   "outputs": [
    {
     "data": {
      "text/plain": [
       "NodeView(('dkpol', 'dkcivil', 'spejder', 'dkmedier', 'dkgreen', 'dkenergi', 'dkklima', 'IErJoHeltVæk', 'DKpol', 'DKMedier', 'B34', 'Jugement', 'etik', 'coronavirus', 'dkpolitik', 'tætpåsandheden', 'partistøtte', 'STEM', 'dkbiz', 'dkforsk', 'china', 'China_kills_Muslims', 'sundfornift', 'overvågning', 'ansigtsgenkendelse', 'LGBT', 'begravelse', 'Pallywood', 'BesøgAsturias', 'VisitAsturias', 'MadamBlå', 'tRump', 'StopRacisme', 'kæmpforytringsfrihedmensviharden', 'oprørenmulighedmenkunudenvold', 'skolechat', 'whiterussian', '3554borgere', 'moral', '3554BorgereDØDEpgaJobcenterne', 'forretningsmodel'))"
      ]
     },
     "execution_count": 84,
     "metadata": {},
     "output_type": "execute_result"
    }
   ],
   "source": [
    "G_hashtag = nx.Graph() # Build non-directed graph\n",
    "G_hashtag.add_edges_from(edge_list) # add edges from edge_list\n",
    "G_hashtag.nodes() # view nodes"
   ]
  },
  {
   "cell_type": "code",
   "execution_count": 85,
   "metadata": {},
   "outputs": [
    {
     "data": {
      "text/plain": [
       "dkpol                               23\n",
       "dkmedier                             8\n",
       "China_kills_Muslims                  3\n",
       "MadamBlå                             3\n",
       "Pallywood                            3\n",
       "begravelse                           3\n",
       "LGBT                                 3\n",
       "ansigtsgenkendelse                   3\n",
       "overvågning                          3\n",
       "china                                3\n",
       "DKpol                                3\n",
       "B34                                  2\n",
       "dkforsk                              2\n",
       "skolechat                            2\n",
       "IErJoHeltVæk                         2\n",
       "whiterussian                         2\n",
       "DKMedier                             2\n",
       "spejder                              2\n",
       "dkcivil                              2\n",
       "dkbiz                                2\n",
       "STEM                                 2\n",
       "3554borgere                          2\n",
       "tætpåsandheden                       2\n",
       "dkpolitik                            2\n",
       "moral                                2\n",
       "3554BorgereDØDEpgaJobcenterne        1\n",
       "oprørenmulighedmenkunudenvold        1\n",
       "kæmpforytringsfrihedmensviharden     1\n",
       "StopRacisme                          1\n",
       "tRump                                1\n",
       "dkklima                              1\n",
       "VisitAsturias                        1\n",
       "BesøgAsturias                        1\n",
       "dkgreen                              1\n",
       "dkenergi                             1\n",
       "Jugement                             1\n",
       "sundfornift                          1\n",
       "partistøtte                          1\n",
       "coronavirus                          1\n",
       "etik                                 1\n",
       "forretningsmodel                     1\n",
       "dtype: int64"
      ]
     },
     "execution_count": 85,
     "metadata": {},
     "output_type": "execute_result"
    }
   ],
   "source": [
    "# Calculate indegree and turn into a dictionary\n",
    "degree_hashtag = G_hashtag.degree()\n",
    "degree_hashtag_d = dict(degree_hashtag)\n",
    "# from dict to series\n",
    "degree_hashtag_s = pd.Series(degree_hashtag_d) \n",
    "degree_hashtag_s.nlargest(100)\n",
    "#Here we calculate the degree or the 100 most used hashtags "
   ]
  },
  {
   "cell_type": "code",
   "execution_count": null,
   "metadata": {},
   "outputs": [],
   "source": [
    "# Some hashtags co-occur more than others.\n"
   ]
  }
 ],
 "metadata": {
  "kernelspec": {
   "display_name": "Python 3",
   "language": "python",
   "name": "python3"
  },
  "language_info": {
   "codemirror_mode": {
    "name": "ipython",
    "version": 3
   },
   "file_extension": ".py",
   "mimetype": "text/x-python",
   "name": "python",
   "nbconvert_exporter": "python",
   "pygments_lexer": "ipython3",
   "version": "3.7.4"
  }
 },
 "nbformat": 4,
 "nbformat_minor": 4
}
