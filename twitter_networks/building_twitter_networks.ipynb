{
 "cells": [
  {
   "cell_type": "markdown",
   "metadata": {},
   "source": [
    "# Twitter networks : retweet, reply and hashtag\n",
    "\n",
    "In this notebook we will indtroduce to some basic networkx while working with\n",
    "different types of twitter networks. The datasets you have access to are smaller subset of the Danish twitter dataset. You will all be able to get more of data, but for now we simply want to build different types of networks and demostrate som very basic ways in which this can help you in your issue analysis."
   ]
  },
  {
   "cell_type": "code",
   "execution_count": null,
   "metadata": {},
   "outputs": [],
   "source": [
    "# import libraries\n",
    "import pandas as pd\n",
    "import networkx as nx\n",
    "import matplotlib as plt\n",
    "%matplotlib inline "
   ]
  },
  {
   "cell_type": "markdown",
   "metadata": {},
   "source": [
    "# Retweet network\n",
    "\n",
    "We will import a dataframe of retweets. Make it into a list of edges that networkx can transform into a network. We will then calculate indegree and inspect the most retweeted actors in the corona issue. \n",
    "\n",
    "We will likewise calculate the out degree to see who is spreading the word/spamming or sharing."
   ]
  },
  {
   "cell_type": "code",
   "execution_count": null,
   "metadata": {},
   "outputs": [],
   "source": [
    "# importing retweet edges list. 'user' is the one \n",
    "# twitting and 'retweeted_user' is being retweeted.\n",
    "df_retweet_edges = pd.read_csv('retweet_edges_test.csv') "
   ]
  },
  {
   "cell_type": "code",
   "execution_count": null,
   "metadata": {},
   "outputs": [],
   "source": [
    "# pandas to_records transforms a dataframe into a list of truples, which networkx can work with\n",
    "edges_retweet = df_retweet_edges.to_records(index=False)"
   ]
  },
  {
   "cell_type": "code",
   "execution_count": null,
   "metadata": {},
   "outputs": [],
   "source": [
    "# Construct a directed graph\n",
    "digraph_retweet = nx.DiGraph()"
   ]
  },
  {
   "cell_type": "code",
   "execution_count": null,
   "metadata": {},
   "outputs": [],
   "source": [
    "# A directed graph takes an list of tuples.\n",
    "digraph_retweet.add_edges_from(edges_retweet)"
   ]
  },
  {
   "cell_type": "code",
   "execution_count": null,
   "metadata": {},
   "outputs": [],
   "source": [
    "# return number of nodes and edges\n",
    "digraph_retweet.number_of_nodes(), digraph_retweet.number_of_edges()"
   ]
  },
  {
   "cell_type": "code",
   "execution_count": null,
   "metadata": {},
   "outputs": [],
   "source": [
    "# Calculate indegree and turn into a dictionary\n",
    "outdegree_retweet = digraph.in_degree()\n",
    "outdegree_retweet_d = dict(indegree)\n",
    "\n",
    "# Turn in_degree into a series\n",
    "outdegree_retweet_s = pd.Series(indegree_d)"
   ]
  },
  {
   "cell_type": "code",
   "execution_count": null,
   "metadata": {},
   "outputs": [],
   "source": [
    "# View most retweeted users for qualitative insepction. \n",
    "outdegree_retweet_s.nlargest(20)"
   ]
  },
  {
   "cell_type": "code",
   "execution_count": null,
   "metadata": {},
   "outputs": [],
   "source": [
    "# Quick describtion of the indegree distribtion. \n",
    "outdegree_retweet_s.describe()"
   ]
  },
  {
   "cell_type": "code",
   "execution_count": null,
   "metadata": {},
   "outputs": [],
   "source": [
    "# Calculate outdegree and turn into a dictionary\n",
    "outdegree_retweet = digraph.out_degree()\n",
    "outdegree_retweet_d = dict(outdegree)"
   ]
  },
  {
   "cell_type": "code",
   "execution_count": null,
   "metadata": {},
   "outputs": [],
   "source": [
    "# Turn out_degree into a series\n",
    "outdegree_retweet_s = pd.Series(outdegree_d)"
   ]
  },
  {
   "cell_type": "code",
   "execution_count": null,
   "metadata": {},
   "outputs": [],
   "source": [
    "outdegree_retweet_s.nlargest(20)"
   ]
  },
  {
   "cell_type": "markdown",
   "metadata": {},
   "source": [
    "# Reply network\n",
    "\n",
    "We will import csv on reply into a dataframe. Make it into a list of edges that networkx can transform into a network. We will then calculate indegree and inspect the most talked to actors in the corona issue. \n",
    "\n",
    "We will likewise calculate the out degree to see who is the most dialogical actors in the Twitter corona issue public."
   ]
  },
  {
   "cell_type": "code",
   "execution_count": null,
   "metadata": {},
   "outputs": [],
   "source": [
    "# importing retweet edges list. 'user' is the one \n",
    "# twitting and 'retweeted_user' is being retweeted.\n",
    "df_reply_edges = pd.read_csv('reply_edges_test.csv')"
   ]
  },
  {
   "cell_type": "code",
   "execution_count": null,
   "metadata": {},
   "outputs": [],
   "source": [
    "reply_edges = df_reply_edges.to_records(index=False)\n",
    "digraph_reply = nx.DiGraph()\n",
    "digraph_reply.add_edges_from(reply_edges)"
   ]
  },
  {
   "cell_type": "code",
   "execution_count": null,
   "metadata": {},
   "outputs": [],
   "source": [
    "# Calculate indegree and turn into a dictionary\n",
    "indegree_reply = digraph_reply.in_degree()\n",
    "indegree_reply_d = dict(indegree_reply)\n",
    "# from dict to series\n",
    "indegree_reply_s = pd.Series(indegree_reply_d) \n",
    "indegree_reply_s.nlargest(100)"
   ]
  },
  {
   "cell_type": "markdown",
   "metadata": {},
   "source": [
    "# Hashtag network\n",
    "\n",
    "We will import csv on hashtags-user relations into a dataframe. Make it into a list of edges that networkx can transform into a network. We will then calculate indegree and inspect the most talked to actors in the corona issue. \n",
    "\n",
    "We will likewise calculate the out degree to see who is the most dialogical actors in the Twitter corona issue public."
   ]
  },
  {
   "cell_type": "code",
   "execution_count": null,
   "metadata": {},
   "outputs": [],
   "source": [
    "df_hashtags = pd.read_csv('hashtags_test.csv')"
   ]
  },
  {
   "cell_type": "code",
   "execution_count": null,
   "metadata": {},
   "outputs": [],
   "source": [
    "# because of list of hasttag is formate as a string we can use a python library to get python to recognize \n",
    "# that it in fact is a python list. \n",
    "import ast\n",
    "hashtag_list_of_list = [ast.literal_eval(hashtags) for hashtags in df_hashtags['hashtags']]\n",
    "df_hashtags['hashtags'] = hashtag_list_of_list"
   ]
  },
  {
   "cell_type": "code",
   "execution_count": null,
   "metadata": {},
   "outputs": [],
   "source": [
    "# We run through our list of co-occurring hashtags and build a edgelist \n",
    "# where every hashtag is connected to every other within the same tweet. \n",
    "# We then add tweet edgelist to a egdelist for the whole collection of tweets. \n",
    " \n",
    "edge_list = [] # input for hashtag graph\n",
    "\n",
    "for hashtags in df_hashtags['hashtags']:\n",
    "    G = nx.complete_graph(hashtags) # makes a fully connected graph out of oc-occurring hashtags\n",
    "    G_edgelist = G.edges() # gives us the edgelist\n",
    "    edge_list.extend(G_edgelist) # add the edgelist from tweet to our edgelist for the whole collection of tweets"
   ]
  },
  {
   "cell_type": "code",
   "execution_count": null,
   "metadata": {},
   "outputs": [],
   "source": [
    "G_hashtag = nx.Graph() # Build non-directed graph\n",
    "G_hashtag.add_edges_from(edge_list) # add edges from edge_list\n",
    "G_hashtag.nodes() # view nodes"
   ]
  },
  {
   "cell_type": "code",
   "execution_count": null,
   "metadata": {},
   "outputs": [],
   "source": [
    "# Calculate indegree and turn into a dictionary\n",
    "degree_hashtag = G_hashtag.degree()\n",
    "degree_hashtag_d = dict(degree_hashtag)\n",
    "# from dict to series\n",
    "degree_hashtag_s = pd.Series(degree_hashtag_d) \n",
    "degree_hashtag_s.nlargest(100)"
   ]
  },
  {
   "cell_type": "code",
   "execution_count": null,
   "metadata": {},
   "outputs": [],
   "source": []
  }
 ],
 "metadata": {
  "kernelspec": {
   "display_name": "Python 3",
   "language": "python",
   "name": "python3"
  },
  "language_info": {
   "codemirror_mode": {
    "name": "ipython",
    "version": 3
   },
   "file_extension": ".py",
   "mimetype": "text/x-python",
   "name": "python",
   "nbconvert_exporter": "python",
   "pygments_lexer": "ipython3",
   "version": "3.6.10"
  }
 },
 "nbformat": 4,
 "nbformat_minor": 4
}
