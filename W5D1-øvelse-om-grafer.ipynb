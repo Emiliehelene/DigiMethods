{
 "cells": [
  {
   "cell_type": "markdown",
   "metadata": {},
   "source": [
    "# Exercise W5D1: Basic Visualizations and Best Practices \n",
    "\n",
    "## 5.1.1 Data Wrangling and Visualizing"
   ]
  },
  {
   "cell_type": "markdown",
   "metadata": {},
   "source": [
    "**Exercise 5.1.1.1** Read in the dataset \"nchs_death_causes.csv\" as a list of lists. You will need to use the `csv` package and then will want to go through each row appending it to a list you create."
   ]
  },
  {
   "cell_type": "code",
   "execution_count": 1,
   "metadata": {},
   "outputs": [],
   "source": [
    "import csv\n",
    "\n",
    "empty_list = []\n",
    "\n",
    "file = open(\"nchs_death_causes.csv\", \"r\", encoding='utf8')\n",
    "reader = csv.reader(file)\n",
    "\n",
    "for row in reader:\n",
    "    empty_list.append(row)\n",
    "\n",
    "#print(empty_list)"
   ]
  },
  {
   "cell_type": "code",
   "execution_count": 2,
   "metadata": {},
   "outputs": [],
   "source": [
    "empty_list = empty_list[1:]"
   ]
  },
  {
   "cell_type": "markdown",
   "metadata": {},
   "source": [
    "**Exercise 5.1.1.2** Make a list that is a subset of the data, containing only one cause of death and one state."
   ]
  },
  {
   "cell_type": "code",
   "execution_count": 3,
   "metadata": {},
   "outputs": [],
   "source": [
    "#we will need to make a list with only Alaska and suicide\n",
    "\n",
    "Alaska_cause = []\n",
    "\n",
    "for state_cause in empty_list: \n",
    "\n",
    "    if (state_cause[3]==\"Alaska\") and (state_cause[2]==\"Suicide\"):\n",
    "        Alaska_cause.append(state_cause)\n",
    "    \n",
    "    \n",
    "        #print(state_cause)\n",
    "\n"
   ]
  },
  {
   "cell_type": "markdown",
   "metadata": {},
   "source": [
    "**Exercise 5.1.1.3** Plot a line graph that shows the development of the death rate over time."
   ]
  },
  {
   "cell_type": "code",
   "execution_count": 4,
   "metadata": {},
   "outputs": [],
   "source": [
    "import matplotlib.pyplot as plt\n",
    "\n",
    "values = [int(item[4])  for item in Alaska_cause]\n",
    "labels = [int(item[0])  for item in Alaska_cause]"
   ]
  },
  {
   "cell_type": "code",
   "execution_count": 5,
   "metadata": {},
   "outputs": [
    {
     "data": {
      "image/png": "[encoded data removed]",
      "text/plain": [
       "<Figure size 432x288 with 1 Axes>"
      ]
     },
     "metadata": {
      "needs_background": "light"
     },
     "output_type": "display_data"
    }
   ],
   "source": [
    "plt.plot(values)\n",
    "plt.show()"
   ]
  },
  {
   "cell_type": "markdown",
   "metadata": {},
   "source": [
    "**Exercise 5.1.1.4** Make your figure self-contained and export it/save it to your machine."
   ]
  },
  {
   "cell_type": "markdown",
   "metadata": {},
   "source": [
    "**Exercise 5.1.1.5** Make a list that is a subset of the data, containing _two_ causes of death that might be interesting to compare for one state."
   ]
  },
  {
   "cell_type": "markdown",
   "metadata": {},
   "source": [
    "**Exercise 5.1.1.6** Create a _self-contained_ scatter plot that compares the two causes of death in the state."
   ]
  },
  {
   "cell_type": "markdown",
   "metadata": {},
   "source": [
    "**Exercise 5.1.1.7** Make a list that is a subset of the data, containing data for only one year and one state."
   ]
  },
  {
   "cell_type": "markdown",
   "metadata": {},
   "source": [
    "**Exercise 5.1.1.8** Create a  _self-contained_ bar graph showing the death rate across causes of death in your subset of the data."
   ]
  },
  {
   "cell_type": "markdown",
   "metadata": {},
   "source": [
    "**Exercise 5.1.1.9** Interpret your bar graph."
   ]
  },
  {
   "cell_type": "markdown",
   "metadata": {},
   "source": [
    "## _If You Have Time_ Follow Your Interests "
   ]
  },
  {
   "cell_type": "markdown",
   "metadata": {},
   "source": [
    "**5.1.2.1** Think about the different data sources you have been using so far. Identify one source of data you were particularly interested in, get the data, think about what might be interesting to explore visually and plot it."
   ]
  }
 ],
 "metadata": {
  "kernelspec": {
   "display_name": "Python 3",
   "language": "python",
   "name": "python3"
  },
  "language_info": {
   "codemirror_mode": {
    "name": "ipython",
    "version": 3
   },
   "file_extension": ".py",
   "mimetype": "text/x-python",
   "name": "python",
   "nbconvert_exporter": "python",
   "pygments_lexer": "ipython3",
   "version": "3.7.4"
  }
 },
 "nbformat": 4,
 "nbformat_minor": 2
}
