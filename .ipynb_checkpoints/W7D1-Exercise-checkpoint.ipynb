{
 "cells": [
  {
   "cell_type": "markdown",
   "metadata": {},
   "source": [
    "# Exercise W7D1: Review and Putting it All Together\n",
    "\n",
    "This exercise aims to draw together the topics we have covered in the _Base Camp_ portion of the Digital Methods class. At the end of the exercise, you should have a `DataFrame` with each row containing information on a Twitter account including their tweets, friends, followers, hashtags and mentions as well as some descriptive statistics.\n",
    "\n",
    "You will be able to reuse and modify this code for the second half of digital methods to download and analyze tweets for your projects. So, this exercise should provide you with a solid review of different things we have learned and help you for the the rest of the course."
   ]
  },
  {
   "cell_type": "markdown",
   "metadata": {},
   "source": [
    "**Exercise 1. Identify a topic, authenticate, and get data.** First, identify a topic of interest to you and think about a keyword or hashtag capturing the topic. Possible topics could be Corona or Climate, but you are welcome to choose something else. Then load the `tweepy` module and use the built-in functionality to `search` Twitter for your keyword or hashtag. Create a variable that contains the data returned by your search.\n",
    "\n",
    "See [here](http://docs.tweepy.org/en/latest/api.html#help-methods) for more information about the `search` method."
   ]
  },
  {
   "cell_type": "code",
   "execution_count": 2,
   "metadata": {},
   "outputs": [],
   "source": [
    "import sys"
   ]
  },
  {
   "cell_type": "code",
   "execution_count": 4,
   "metadata": {},
   "outputs": [
    {
     "name": "stdout",
     "output_type": "stream",
     "text": [
      "3.8.0\n"
     ]
    }
   ],
   "source": [
    "import tweepy\n",
    "print(tweepy.__version__)"
   ]
  },
  {
   "cell_type": "code",
   "execution_count": 5,
   "metadata": {},
   "outputs": [],
   "source": [
    "from AppCred import CONSUMER_KEY, CONSUMER_SECRET\n",
    "from AppCred import ACCESS_TOKEN, ACCESS_TOKEN_SECRET"
   ]
  },
  {
   "cell_type": "code",
   "execution_count": 6,
   "metadata": {},
   "outputs": [],
   "source": [
    "auth = tweepy.OAuthHandler(CONSUMER_KEY, CONSUMER_SECRET)"
   ]
  },
  {
   "cell_type": "code",
   "execution_count": 7,
   "metadata": {},
   "outputs": [],
   "source": [
    "auth.set_access_token(ACCESS_TOKEN, ACCESS_TOKEN_SECRET)"
   ]
  },
  {
   "cell_type": "code",
   "execution_count": 8,
   "metadata": {},
   "outputs": [],
   "source": [
    "api = tweepy.API(auth)"
   ]
  },
  {
   "cell_type": "code",
   "execution_count": 25,
   "metadata": {},
   "outputs": [],
   "source": [
    "#api.update_status(\"Farvel\")"
   ]
  },
  {
   "cell_type": "code",
   "execution_count": 88,
   "metadata": {
    "scrolled": false
   },
   "outputs": [],
   "source": [
    "Mette = api.search(\"Mette Frederiksen\")\n",
    "#print(Mette)"
   ]
  },
  {
   "cell_type": "code",
   "execution_count": 79,
   "metadata": {},
   "outputs": [
    {
     "name": "stdout",
     "output_type": "stream",
     "text": [
      "RT @Mesquitanessa: Enquanto lá a primeira-ministra dinamarquesa, Mette Frederiksen, defendeu o jornal e disse que há liberdade de opinião;…\n",
      "RT @Mesquitanessa: Enquanto lá a primeira-ministra dinamarquesa, Mette Frederiksen, defendeu o jornal e disse que há liberdade de opinião;…\n",
      "RT @Mesquitanessa: Enquanto lá a primeira-ministra dinamarquesa, Mette Frederiksen, defendeu o jornal e disse que há liberdade de opinião;…\n",
      "@FrederikBarfoed @larsloekke @Spolitik Poul Schlüter\n",
      "Poul Nyrup\n",
      "Anders Fogh\n",
      "Lars Løkke\n",
      "Helle Thorning\n",
      "Lars Løkke\n",
      "Me… https://t.co/bPrywwWmcE\n",
      "Forsker: Heldigvis var dronningen mere klar i mælet end Mette Frederiksen https://t.co/w3d8j5LiRR #COVID19dk via @politiken\n",
      "Forsker: Heldigvis var dronningen mere klar i mælet end Mette Frederiksen https://t.co/XO4bp3aStg #COVID19dk\n",
      "RT @Mesquitanessa: Enquanto lá a primeira-ministra dinamarquesa, Mette Frederiksen, defendeu o jornal e disse que há liberdade de opinião;…\n",
      "Enquanto lá a primeira-ministra dinamarquesa, Mette Frederiksen, defendeu o jornal e disse que há liberdade de opin… https://t.co/IBYpWq2L0T\n",
      "Det er ikke populært at mene i den her tid.\n",
      "\n",
      "Men ser man på fakta, så er det desværre virkeligheden \n",
      "\n",
      "@Statsmin… https://t.co/nBw5efPLeF\n",
      "RT @sandeep_PT: The government of Denmark is promising to cover 75 per cent of employees’ salaries for three months if firms promise not to…\n",
      "RT @kennipoulsen: Mette Frederiksen på næste pressemøde når udgangsforbuddet bliver en realitet #COVID19dk https://t.co/d1iGQYUNfW https://…\n",
      "RT @sandeep_PT: The government of Denmark is promising to cover 75 per cent of employees’ salaries for three months if firms promise not to…\n"
     ]
    }
   ],
   "source": [
    "mette_tweets = []\n",
    "for element in Mette:\n",
    "    #Her går vi ind i hele ovenstående search og looper igennem. \n",
    "    #så looper vi igennem\n",
    "    print(element._json[\"text\"])\n",
    "    #Her printer vi altså alle tekst afsnit!\n",
    "    a=element._json[\"text\"]\n",
    "    mette_tweets.append(a)\n",
    "    \n",
    "    \n"
   ]
  },
  {
   "cell_type": "code",
   "execution_count": 81,
   "metadata": {},
   "outputs": [
    {
     "data": {
      "text/plain": [
       "['RT @Mesquitanessa: Enquanto lá a primeira-ministra dinamarquesa, Mette Frederiksen, defendeu o jornal e disse que há liberdade de opinião;…',\n",
       " 'RT @Mesquitanessa: Enquanto lá a primeira-ministra dinamarquesa, Mette Frederiksen, defendeu o jornal e disse que há liberdade de opinião;…',\n",
       " 'RT @Mesquitanessa: Enquanto lá a primeira-ministra dinamarquesa, Mette Frederiksen, defendeu o jornal e disse que há liberdade de opinião;…',\n",
       " '@FrederikBarfoed @larsloekke @Spolitik Poul Schlüter\\nPoul Nyrup\\nAnders Fogh\\nLars Løkke\\nHelle Thorning\\nLars Løkke\\nMe… https://t.co/bPrywwWmcE',\n",
       " 'Forsker: Heldigvis var dronningen mere klar i mælet end Mette Frederiksen https://t.co/w3d8j5LiRR #COVID19dk via @politiken',\n",
       " 'Forsker: Heldigvis var dronningen mere klar i mælet end Mette Frederiksen https://t.co/XO4bp3aStg #COVID19dk',\n",
       " 'RT @Mesquitanessa: Enquanto lá a primeira-ministra dinamarquesa, Mette Frederiksen, defendeu o jornal e disse que há liberdade de opinião;…',\n",
       " 'Enquanto lá a primeira-ministra dinamarquesa, Mette Frederiksen, defendeu o jornal e disse que há liberdade de opin… https://t.co/IBYpWq2L0T',\n",
       " 'Det er ikke populært at mene i den her tid.\\n\\nMen ser man på fakta, så er det desværre virkeligheden \\n\\n@Statsmin… https://t.co/nBw5efPLeF',\n",
       " 'RT @sandeep_PT: The government of Denmark is promising to cover 75 per cent of employees’ salaries for three months if firms promise not to…',\n",
       " 'RT @kennipoulsen: Mette Frederiksen på næste pressemøde når udgangsforbuddet bliver en realitet #COVID19dk https://t.co/d1iGQYUNfW https://…',\n",
       " 'RT @sandeep_PT: The government of Denmark is promising to cover 75 per cent of employees’ salaries for three months if firms promise not to…']"
      ]
     },
     "execution_count": 81,
     "metadata": {},
     "output_type": "execute_result"
    }
   ],
   "source": [
    "mette_tweets\n",
    "#Lidt svært at forstå, hvorfor der ikke kommer flere tweets?"
   ]
  },
  {
   "cell_type": "code",
   "execution_count": 77,
   "metadata": {},
   "outputs": [
    {
     "data": {
      "text/plain": [
       "12"
      ]
     },
     "execution_count": 77,
     "metadata": {},
     "output_type": "execute_result"
    }
   ],
   "source": [
    "len(Mette)"
   ]
  },
  {
   "cell_type": "code",
   "execution_count": 82,
   "metadata": {},
   "outputs": [
    {
     "data": {
      "text/plain": [
       "tweepy.models.SearchResults"
      ]
     },
     "execution_count": 82,
     "metadata": {},
     "output_type": "execute_result"
    }
   ],
   "source": [
    "type(Mette)"
   ]
  },
  {
   "cell_type": "markdown",
   "metadata": {},
   "source": [
    "Now we have an object containing a number of tweets pertaining to our topic of interest. As you might remember, by default the Twitter API returns the data to us in JSON format. Now that we know about the elegance and beauty of `DataFrames`, we would prefer to work with that format of data rather than a dictionary-style JSON. "
   ]
  },
  {
   "cell_type": "markdown",
   "metadata": {},
   "source": [
    "**Exercise 2. Turn raw API data into a DataFrame.** Your search returned a set of tweets about your chosen topic. Construct a `DataFrame` from your Twitter search object of the people who are tweeting about that topic that, at minimum, contains the unique `screen_names`, `followers_count`, `friends_count`, and `statuses_count` returned from your search. \n",
    "\n",
    "There are a number of ways to do this so you might want to review how to construct `DataFrames` (W6D1-Demo). You may also want to review navigating JSON objects (W4D2-Exercise_solutions). Also, your returned data might include the same account multiple times, so you will want to make sure that you are listing the account only once in your `DataFrame`."
   ]
  },
  {
   "cell_type": "code",
   "execution_count": 44,
   "metadata": {},
   "outputs": [],
   "source": [
    "import pandas as pd\n",
    "import numpy as np\n",
    "#her går vi over til at arbejde med dataframes i stedet for json"
   ]
  },
  {
   "cell_type": "code",
   "execution_count": 83,
   "metadata": {},
   "outputs": [],
   "source": [
    "#Now we want to create lists containing e.g. followers, friends etc. \n",
    "names = []\n",
    "screen_names = []\n",
    "id_str = []\n",
    "location = []\n",
    "description = []\n",
    "followers_count = []\n",
    "friends_count = []\n",
    "statuses_count = []\n",
    "created_at = []"
   ]
  },
  {
   "cell_type": "code",
   "execution_count": 84,
   "metadata": {},
   "outputs": [],
   "source": [
    "for tweet in Mette:\n",
    "    if (tweet._json['user']['screen_name'] not in screen_names):\n",
    "        names.append(tweet._json['user']['name'])\n",
    "        screen_names.append(tweet._json['user']['screen_name'])\n",
    "        id_str.append(tweet._json['user']['id'])\n",
    "        location.append(tweet._json['user']['location'])\n",
    "        description.append(tweet._json['user']['description'])\n",
    "        followers_count.append(tweet._json['user']['followers_count'])\n",
    "        friends_count.append(tweet._json['user']['friends_count'])\n",
    "        statuses_count.append(tweet._json['user']['statuses_count'])\n",
    "        created_at.append(tweet._json['user']['created_at'])"
   ]
  },
  {
   "cell_type": "code",
   "execution_count": 85,
   "metadata": {},
   "outputs": [
    {
     "name": "stdout",
     "output_type": "stream",
     "text": [
      "['officialkuyou', 'PbakP', 'lildelima', 'Julioseibei', 'MarcosA51741778', 'TorbenOlsen9', 'CoronavirusDk', 'politiken', 'GilHosana', 'Mesquitanessa', 'DanmarksFremtid', 'karthy']\n"
     ]
    }
   ],
   "source": [
    "print(screen_names)"
   ]
  },
  {
   "cell_type": "code",
   "execution_count": 67,
   "metadata": {},
   "outputs": [
    {
     "name": "stdout",
     "output_type": "stream",
     "text": [
      "[363, 1115, 5001, 52, 18, 123, 1833, 12020, 930, 430, 201, 407]\n"
     ]
    }
   ],
   "source": [
    "print(friends_count)"
   ]
  },
  {
   "cell_type": "code",
   "execution_count": 68,
   "metadata": {},
   "outputs": [
    {
     "name": "stdout",
     "output_type": "stream",
     "text": [
      "[7019, 19596, 134103, 17, 430, 112639, 92722, 8093, 19018, 2140, 5128, 1456]\n"
     ]
    }
   ],
   "source": [
    "print(statuses_count)"
   ]
  },
  {
   "cell_type": "code",
   "execution_count": 69,
   "metadata": {},
   "outputs": [
    {
     "name": "stdout",
     "output_type": "stream",
     "text": [
      "['Tue Oct 20 14:12:50 +0000 2009', 'Sat Oct 21 17:24:19 +0000 2017', 'Thu Oct 03 19:56:38 +0000 2013', 'Sun Dec 17 20:33:09 +0000 2017', 'Mon Mar 09 13:04:28 +0000 2020', 'Wed May 28 05:35:50 +0000 2008', 'Thu Oct 31 20:15:39 +0000 2013', 'Thu Oct 27 22:23:22 +0000 2011', 'Fri Apr 24 00:28:19 +0000 2009', 'Sat Jun 21 09:57:40 +0000 2008', 'Thu Nov 21 14:03:24 +0000 2013', 'Sun May 25 16:09:04 +0000 2014']\n"
     ]
    }
   ],
   "source": [
    "print(created_at)"
   ]
  },
  {
   "cell_type": "code",
   "execution_count": 70,
   "metadata": {},
   "outputs": [
    {
     "name": "stdout",
     "output_type": "stream",
     "text": [
      "['Groningen, Nederland', '', 'Rio de janeiro', '', '', 'Copenhagen, Denmark', 'Belo Horizonte, Brasil', 'Magé, Brasil', 'Herning', 'Bengaluru', 'København', '']\n"
     ]
    }
   ],
   "source": [
    "print(location)"
   ]
  },
  {
   "cell_type": "code",
   "execution_count": 93,
   "metadata": {},
   "outputs": [
    {
     "name": "stdout",
     "output_type": "stream",
     "text": [
      "['Cuma Pengen Kasih Tau Apa yang Gue Tau! \\njangan lupa cek instagramnya kuyou juga yak guys\\ndi @kuyou.id', 'Digital entrepreneur', '', 'Una-se aos bons e serás um deles!', 'Administração', '', 'Tweeter om coronavirus', 'Landsdækkende nyhedsmedie siden 1884. Ansvarlig for denne Twitterkonto: @proeschold', 'Liberdade com Responsabilidade.                        \\n\\n        Pós- graduação : Pedagogia Empresarial', 'Brasileiro, feliz, casado e com filhos.\\nAcredito na Direita Unida por um Brasil mais forte.', 'Debatindlæg skrevet af borgerlige til borgerlige. Borgerlige der vil Danmark.  Send debatindlæg til kontakt@danmarksfremtid.dk /@edtwodthnb', 'Entrepreneur - CarePro Global, Loving Husband, Responsible Son, Guiding Brother, Delighted father and I believe lot more to come :)']\n"
     ]
    }
   ],
   "source": [
    "print(description)"
   ]
  },
  {
   "cell_type": "code",
   "execution_count": 74,
   "metadata": {},
   "outputs": [],
   "source": [
    "Mette_dictionary = {\n",
    "    \"name\": names,\n",
    "    \"screen_name\": screen_names,\n",
    "    \"id_str\": id_str,\n",
    "    \"location\": location,\n",
    "    \"description\": description,\n",
    "    \"followers_count\": followers_count,\n",
    "    \"friends_count\": friends_count,\n",
    "    \"statuses_count\": statuses_count,\n",
    "    \"created_at\": created_at\n",
    "}"
   ]
  },
  {
   "cell_type": "code",
   "execution_count": 87,
   "metadata": {},
   "outputs": [
    {
     "data": {
      "text/html": [
       "<div>\n",
       "<style scoped>\n",
       "    .dataframe tbody tr th:only-of-type {\n",
       "        vertical-align: middle;\n",
       "    }\n",
       "\n",
       "    .dataframe tbody tr th {\n",
       "        vertical-align: top;\n",
       "    }\n",
       "\n",
       "    .dataframe thead th {\n",
       "        text-align: right;\n",
       "    }\n",
       "</style>\n",
       "<table border=\"1\" class=\"dataframe\">\n",
       "  <thead>\n",
       "    <tr style=\"text-align: right;\">\n",
       "      <th></th>\n",
       "      <th>name</th>\n",
       "      <th>screen_name</th>\n",
       "      <th>id_str</th>\n",
       "      <th>location</th>\n",
       "      <th>description</th>\n",
       "      <th>followers_count</th>\n",
       "      <th>friends_count</th>\n",
       "      <th>statuses_count</th>\n",
       "      <th>created_at</th>\n",
       "    </tr>\n",
       "  </thead>\n",
       "  <tbody>\n",
       "    <tr>\n",
       "      <td>0</td>\n",
       "      <td>lilia araujo</td>\n",
       "      <td>lildelima</td>\n",
       "      <td>83851959</td>\n",
       "      <td>Groningen, Nederland</td>\n",
       "      <td></td>\n",
       "      <td>386</td>\n",
       "      <td>363</td>\n",
       "      <td>7019</td>\n",
       "      <td>Tue Oct 20 14:12:50 +0000 2009</td>\n",
       "    </tr>\n",
       "    <tr>\n",
       "      <td>1</td>\n",
       "      <td>Seibei</td>\n",
       "      <td>Julioseibei</td>\n",
       "      <td>921789257722810371</td>\n",
       "      <td></td>\n",
       "      <td>Una-se aos bons e serás um deles!</td>\n",
       "      <td>583</td>\n",
       "      <td>1115</td>\n",
       "      <td>19596</td>\n",
       "      <td>Sat Oct 21 17:24:19 +0000 2017</td>\n",
       "    </tr>\n",
       "    <tr>\n",
       "      <td>2</td>\n",
       "      <td>Marcos Oliveira #Dia15EuVouApoiarBolsonaro</td>\n",
       "      <td>MarcosA51741778</td>\n",
       "      <td>1931861250</td>\n",
       "      <td>Rio de janeiro</td>\n",
       "      <td>Administração</td>\n",
       "      <td>3841</td>\n",
       "      <td>5001</td>\n",
       "      <td>134103</td>\n",
       "      <td>Thu Oct 03 19:56:38 +0000 2013</td>\n",
       "    </tr>\n",
       "    <tr>\n",
       "      <td>3</td>\n",
       "      <td>Torben Olsen</td>\n",
       "      <td>TorbenOlsen9</td>\n",
       "      <td>942492887857745920</td>\n",
       "      <td></td>\n",
       "      <td></td>\n",
       "      <td>1</td>\n",
       "      <td>52</td>\n",
       "      <td>17</td>\n",
       "      <td>Sun Dec 17 20:33:09 +0000 2017</td>\n",
       "    </tr>\n",
       "    <tr>\n",
       "      <td>4</td>\n",
       "      <td>coronavirus.dk</td>\n",
       "      <td>CoronavirusDk</td>\n",
       "      <td>1237001270445182976</td>\n",
       "      <td></td>\n",
       "      <td>Tweeter om coronavirus</td>\n",
       "      <td>39</td>\n",
       "      <td>18</td>\n",
       "      <td>430</td>\n",
       "      <td>Mon Mar 09 13:04:28 +0000 2020</td>\n",
       "    </tr>\n",
       "    <tr>\n",
       "      <td>5</td>\n",
       "      <td>Politiken</td>\n",
       "      <td>politiken</td>\n",
       "      <td>14930764</td>\n",
       "      <td>Copenhagen, Denmark</td>\n",
       "      <td>Landsdækkende nyhedsmedie siden 1884. Ansvarli...</td>\n",
       "      <td>224699</td>\n",
       "      <td>123</td>\n",
       "      <td>112639</td>\n",
       "      <td>Wed May 28 05:35:50 +0000 2008</td>\n",
       "    </tr>\n",
       "    <tr>\n",
       "      <td>6</td>\n",
       "      <td>Hosana 15/03 Eu Fui e foi Maravilhoso 💚💛</td>\n",
       "      <td>GilHosana</td>\n",
       "      <td>2162315429</td>\n",
       "      <td>Belo Horizonte, Brasil</td>\n",
       "      <td>Liberdade com Responsabilidade.               ...</td>\n",
       "      <td>1077</td>\n",
       "      <td>1833</td>\n",
       "      <td>92722</td>\n",
       "      <td>Thu Oct 31 20:15:39 +0000 2013</td>\n",
       "    </tr>\n",
       "    <tr>\n",
       "      <td>7</td>\n",
       "      <td>🇧🇷Vaz🇧🇷</td>\n",
       "      <td>Mesquitanessa</td>\n",
       "      <td>399703101</td>\n",
       "      <td>Magé, Brasil</td>\n",
       "      <td>Brasileiro, feliz, casado e com filhos.\\nAcred...</td>\n",
       "      <td>11995</td>\n",
       "      <td>12020</td>\n",
       "      <td>8093</td>\n",
       "      <td>Thu Oct 27 22:23:22 +0000 2011</td>\n",
       "    </tr>\n",
       "    <tr>\n",
       "      <td>8</td>\n",
       "      <td>DanmarksFremtid.dk</td>\n",
       "      <td>DanmarksFremtid</td>\n",
       "      <td>34784558</td>\n",
       "      <td>Herning</td>\n",
       "      <td>Debatindlæg skrevet af borgerlige til borgerli...</td>\n",
       "      <td>285</td>\n",
       "      <td>930</td>\n",
       "      <td>19018</td>\n",
       "      <td>Fri Apr 24 00:28:19 +0000 2009</td>\n",
       "    </tr>\n",
       "    <tr>\n",
       "      <td>9</td>\n",
       "      <td>Karthik</td>\n",
       "      <td>karthy</td>\n",
       "      <td>15188741</td>\n",
       "      <td>Bengaluru</td>\n",
       "      <td>Entrepreneur - CarePro Global, Loving Husband,...</td>\n",
       "      <td>218</td>\n",
       "      <td>430</td>\n",
       "      <td>2140</td>\n",
       "      <td>Sat Jun 21 09:57:40 +0000 2008</td>\n",
       "    </tr>\n",
       "    <tr>\n",
       "      <td>10</td>\n",
       "      <td>Anders Hooge</td>\n",
       "      <td>andershooge</td>\n",
       "      <td>2189956720</td>\n",
       "      <td>København</td>\n",
       "      <td>Digital projektleder.\\nHavde en drøm om at twe...</td>\n",
       "      <td>200</td>\n",
       "      <td>201</td>\n",
       "      <td>5128</td>\n",
       "      <td>Thu Nov 21 14:03:24 +0000 2013</td>\n",
       "    </tr>\n",
       "    <tr>\n",
       "      <td>11</td>\n",
       "      <td>Vedank</td>\n",
       "      <td>vedank31</td>\n",
       "      <td>2523016843</td>\n",
       "      <td></td>\n",
       "      <td></td>\n",
       "      <td>72</td>\n",
       "      <td>407</td>\n",
       "      <td>1456</td>\n",
       "      <td>Sun May 25 16:09:04 +0000 2014</td>\n",
       "    </tr>\n",
       "  </tbody>\n",
       "</table>\n",
       "</div>"
      ],
      "text/plain": [
       "                                          name      screen_name  \\\n",
       "0                                 lilia araujo        lildelima   \n",
       "1                                       Seibei      Julioseibei   \n",
       "2   Marcos Oliveira #Dia15EuVouApoiarBolsonaro  MarcosA51741778   \n",
       "3                                 Torben Olsen     TorbenOlsen9   \n",
       "4                               coronavirus.dk    CoronavirusDk   \n",
       "5                                    Politiken        politiken   \n",
       "6     Hosana 15/03 Eu Fui e foi Maravilhoso 💚💛        GilHosana   \n",
       "7                                      🇧🇷Vaz🇧🇷    Mesquitanessa   \n",
       "8                           DanmarksFremtid.dk  DanmarksFremtid   \n",
       "9                                      Karthik           karthy   \n",
       "10                                Anders Hooge      andershooge   \n",
       "11                                      Vedank         vedank31   \n",
       "\n",
       "                 id_str                location  \\\n",
       "0              83851959    Groningen, Nederland   \n",
       "1    921789257722810371                           \n",
       "2            1931861250          Rio de janeiro   \n",
       "3    942492887857745920                           \n",
       "4   1237001270445182976                           \n",
       "5              14930764     Copenhagen, Denmark   \n",
       "6            2162315429  Belo Horizonte, Brasil   \n",
       "7             399703101            Magé, Brasil   \n",
       "8              34784558                 Herning   \n",
       "9              15188741               Bengaluru   \n",
       "10           2189956720               København   \n",
       "11           2523016843                           \n",
       "\n",
       "                                          description  followers_count  \\\n",
       "0                                                                  386   \n",
       "1                   Una-se aos bons e serás um deles!              583   \n",
       "2                                       Administração             3841   \n",
       "3                                                                    1   \n",
       "4                              Tweeter om coronavirus               39   \n",
       "5   Landsdækkende nyhedsmedie siden 1884. Ansvarli...           224699   \n",
       "6   Liberdade com Responsabilidade.               ...             1077   \n",
       "7   Brasileiro, feliz, casado e com filhos.\\nAcred...            11995   \n",
       "8   Debatindlæg skrevet af borgerlige til borgerli...              285   \n",
       "9   Entrepreneur - CarePro Global, Loving Husband,...              218   \n",
       "10  Digital projektleder.\\nHavde en drøm om at twe...              200   \n",
       "11                                                                  72   \n",
       "\n",
       "    friends_count  statuses_count                      created_at  \n",
       "0             363            7019  Tue Oct 20 14:12:50 +0000 2009  \n",
       "1            1115           19596  Sat Oct 21 17:24:19 +0000 2017  \n",
       "2            5001          134103  Thu Oct 03 19:56:38 +0000 2013  \n",
       "3              52              17  Sun Dec 17 20:33:09 +0000 2017  \n",
       "4              18             430  Mon Mar 09 13:04:28 +0000 2020  \n",
       "5             123          112639  Wed May 28 05:35:50 +0000 2008  \n",
       "6            1833           92722  Thu Oct 31 20:15:39 +0000 2013  \n",
       "7           12020            8093  Thu Oct 27 22:23:22 +0000 2011  \n",
       "8             930           19018  Fri Apr 24 00:28:19 +0000 2009  \n",
       "9             430            2140  Sat Jun 21 09:57:40 +0000 2008  \n",
       "10            201            5128  Thu Nov 21 14:03:24 +0000 2013  \n",
       "11            407            1456  Sun May 25 16:09:04 +0000 2014  "
      ]
     },
     "execution_count": 87,
     "metadata": {},
     "output_type": "execute_result"
    }
   ],
   "source": [
    "Mette_df = pd.DataFrame(Mette_dictionary)\n",
    "Mette_df"
   ]
  },
  {
   "cell_type": "markdown",
   "metadata": {},
   "source": [
    "With our neat `DataFrame` we can now easily find out details about the data we collected from Twitter."
   ]
  },
  {
   "cell_type": "markdown",
   "metadata": {},
   "source": [
    "**Exercise 3. Get information about our data.** Use the `print` function and string operations to make Python tell you in plain language: a) How many unique accounts there are in your data, b) what the name of the _last_ account in your data is, and c) what the sum of followers is for all accounts in your data. That is make Python print out full sentences with the relevant information."
   ]
  },
  {
   "cell_type": "code",
   "execution_count": 95,
   "metadata": {},
   "outputs": [
    {
     "name": "stdout",
     "output_type": "stream",
     "text": [
      "Unique accounts in Mette = 12\n"
     ]
    },
    {
     "ename": "KeyError",
     "evalue": "'created_at'",
     "output_type": "error",
     "traceback": [
      "\u001b[0;31m---------------------------------------------------------------------------\u001b[0m",
      "\u001b[0;31mKeyError\u001b[0m                                  Traceback (most recent call last)",
      "\u001b[0;32m<ipython-input-95-150276d39975>\u001b[0m in \u001b[0;36m<module>\u001b[0;34m\u001b[0m\n\u001b[1;32m      1\u001b[0m \u001b[0mprint\u001b[0m\u001b[0;34m(\u001b[0m\u001b[0;34m\"Unique accounts in Mette = \"\u001b[0m \u001b[0;34m+\u001b[0m \u001b[0mstr\u001b[0m\u001b[0;34m(\u001b[0m\u001b[0mMette_df\u001b[0m\u001b[0;34m.\u001b[0m\u001b[0mname\u001b[0m\u001b[0;34m.\u001b[0m\u001b[0mcount\u001b[0m\u001b[0;34m(\u001b[0m\u001b[0;34m)\u001b[0m\u001b[0;34m)\u001b[0m\u001b[0;34m)\u001b[0m\u001b[0;34m\u001b[0m\u001b[0;34m\u001b[0m\u001b[0m\n\u001b[0;32m----> 2\u001b[0;31m \u001b[0mprint\u001b[0m\u001b[0;34m(\u001b[0m\u001b[0;34m\"The last account in the data is\"\u001b[0m \u001b[0;34m+\u001b[0m \u001b[0mMette_df\u001b[0m\u001b[0;34m[\u001b[0m\u001b[0;34m\"name\"\u001b[0m\u001b[0;34m]\u001b[0m\u001b[0;34m[\u001b[0m\u001b[0;34m\"created_at\"\u001b[0m\u001b[0;34m]\u001b[0m\u001b[0;34m)\u001b[0m\u001b[0;34m\u001b[0m\u001b[0;34m\u001b[0m\u001b[0m\n\u001b[0m",
      "\u001b[0;32m/opt/anaconda3/lib/python3.7/site-packages/pandas/core/series.py\u001b[0m in \u001b[0;36m__getitem__\u001b[0;34m(self, key)\u001b[0m\n\u001b[1;32m   1066\u001b[0m         \u001b[0mkey\u001b[0m \u001b[0;34m=\u001b[0m \u001b[0mcom\u001b[0m\u001b[0;34m.\u001b[0m\u001b[0mapply_if_callable\u001b[0m\u001b[0;34m(\u001b[0m\u001b[0mkey\u001b[0m\u001b[0;34m,\u001b[0m \u001b[0mself\u001b[0m\u001b[0;34m)\u001b[0m\u001b[0;34m\u001b[0m\u001b[0;34m\u001b[0m\u001b[0m\n\u001b[1;32m   1067\u001b[0m         \u001b[0;32mtry\u001b[0m\u001b[0;34m:\u001b[0m\u001b[0;34m\u001b[0m\u001b[0;34m\u001b[0m\u001b[0m\n\u001b[0;32m-> 1068\u001b[0;31m             \u001b[0mresult\u001b[0m \u001b[0;34m=\u001b[0m \u001b[0mself\u001b[0m\u001b[0;34m.\u001b[0m\u001b[0mindex\u001b[0m\u001b[0;34m.\u001b[0m\u001b[0mget_value\u001b[0m\u001b[0;34m(\u001b[0m\u001b[0mself\u001b[0m\u001b[0;34m,\u001b[0m \u001b[0mkey\u001b[0m\u001b[0;34m)\u001b[0m\u001b[0;34m\u001b[0m\u001b[0;34m\u001b[0m\u001b[0m\n\u001b[0m\u001b[1;32m   1069\u001b[0m \u001b[0;34m\u001b[0m\u001b[0m\n\u001b[1;32m   1070\u001b[0m             \u001b[0;32mif\u001b[0m \u001b[0;32mnot\u001b[0m \u001b[0mis_scalar\u001b[0m\u001b[0;34m(\u001b[0m\u001b[0mresult\u001b[0m\u001b[0;34m)\u001b[0m\u001b[0;34m:\u001b[0m\u001b[0;34m\u001b[0m\u001b[0;34m\u001b[0m\u001b[0m\n",
      "\u001b[0;32m/opt/anaconda3/lib/python3.7/site-packages/pandas/core/indexes/base.py\u001b[0m in \u001b[0;36mget_value\u001b[0;34m(self, series, key)\u001b[0m\n\u001b[1;32m   4728\u001b[0m         \u001b[0mk\u001b[0m \u001b[0;34m=\u001b[0m \u001b[0mself\u001b[0m\u001b[0;34m.\u001b[0m\u001b[0m_convert_scalar_indexer\u001b[0m\u001b[0;34m(\u001b[0m\u001b[0mk\u001b[0m\u001b[0;34m,\u001b[0m \u001b[0mkind\u001b[0m\u001b[0;34m=\u001b[0m\u001b[0;34m\"getitem\"\u001b[0m\u001b[0;34m)\u001b[0m\u001b[0;34m\u001b[0m\u001b[0;34m\u001b[0m\u001b[0m\n\u001b[1;32m   4729\u001b[0m         \u001b[0;32mtry\u001b[0m\u001b[0;34m:\u001b[0m\u001b[0;34m\u001b[0m\u001b[0;34m\u001b[0m\u001b[0m\n\u001b[0;32m-> 4730\u001b[0;31m             \u001b[0;32mreturn\u001b[0m \u001b[0mself\u001b[0m\u001b[0;34m.\u001b[0m\u001b[0m_engine\u001b[0m\u001b[0;34m.\u001b[0m\u001b[0mget_value\u001b[0m\u001b[0;34m(\u001b[0m\u001b[0ms\u001b[0m\u001b[0;34m,\u001b[0m \u001b[0mk\u001b[0m\u001b[0;34m,\u001b[0m \u001b[0mtz\u001b[0m\u001b[0;34m=\u001b[0m\u001b[0mgetattr\u001b[0m\u001b[0;34m(\u001b[0m\u001b[0mseries\u001b[0m\u001b[0;34m.\u001b[0m\u001b[0mdtype\u001b[0m\u001b[0;34m,\u001b[0m \u001b[0;34m\"tz\"\u001b[0m\u001b[0;34m,\u001b[0m \u001b[0;32mNone\u001b[0m\u001b[0;34m)\u001b[0m\u001b[0;34m)\u001b[0m\u001b[0;34m\u001b[0m\u001b[0;34m\u001b[0m\u001b[0m\n\u001b[0m\u001b[1;32m   4731\u001b[0m         \u001b[0;32mexcept\u001b[0m \u001b[0mKeyError\u001b[0m \u001b[0;32mas\u001b[0m \u001b[0me1\u001b[0m\u001b[0;34m:\u001b[0m\u001b[0;34m\u001b[0m\u001b[0;34m\u001b[0m\u001b[0m\n\u001b[1;32m   4732\u001b[0m             \u001b[0;32mif\u001b[0m \u001b[0mlen\u001b[0m\u001b[0;34m(\u001b[0m\u001b[0mself\u001b[0m\u001b[0;34m)\u001b[0m \u001b[0;34m>\u001b[0m \u001b[0;36m0\u001b[0m \u001b[0;32mand\u001b[0m \u001b[0;34m(\u001b[0m\u001b[0mself\u001b[0m\u001b[0;34m.\u001b[0m\u001b[0mholds_integer\u001b[0m\u001b[0;34m(\u001b[0m\u001b[0;34m)\u001b[0m \u001b[0;32mor\u001b[0m \u001b[0mself\u001b[0m\u001b[0;34m.\u001b[0m\u001b[0mis_boolean\u001b[0m\u001b[0;34m(\u001b[0m\u001b[0;34m)\u001b[0m\u001b[0;34m)\u001b[0m\u001b[0;34m:\u001b[0m\u001b[0;34m\u001b[0m\u001b[0;34m\u001b[0m\u001b[0m\n",
      "\u001b[0;32mpandas/_libs/index.pyx\u001b[0m in \u001b[0;36mpandas._libs.index.IndexEngine.get_value\u001b[0;34m()\u001b[0m\n",
      "\u001b[0;32mpandas/_libs/index.pyx\u001b[0m in \u001b[0;36mpandas._libs.index.IndexEngine.get_value\u001b[0;34m()\u001b[0m\n",
      "\u001b[0;32mpandas/_libs/index.pyx\u001b[0m in \u001b[0;36mpandas._libs.index.IndexEngine.get_loc\u001b[0;34m()\u001b[0m\n",
      "\u001b[0;32mpandas/_libs/index_class_helper.pxi\u001b[0m in \u001b[0;36mpandas._libs.index.Int64Engine._check_type\u001b[0;34m()\u001b[0m\n",
      "\u001b[0;31mKeyError\u001b[0m: 'created_at'"
     ]
    }
   ],
   "source": [
    "print(\"Unique accounts in Mette = \" + str(Mette_df.name.count()))\n",
    "print(\"The last account in the data is\" + Mette_df[\"name\"][\"created_at\"])"
   ]
  },
  {
   "cell_type": "markdown",
   "metadata": {},
   "source": [
    "**Exercise 4. Adding data to our DataFrame.** Loop through the indices of your `DataFrame`, collect the timeline for each account using the `user_timeline` method from tweepy, and store them in a new list \"timelines\". Note that you will want to build in some `sleep` time to avoid running into rate limits. You can find the syntax for how to do this on page 155 and the logic and examples on pages 209-12 in Brooker (2020)."
   ]
  },
  {
   "cell_type": "markdown",
   "metadata": {},
   "source": [
    "Add your list \"timelines\" to your current `DataFame`. To do this, we first need to turn our list into a new `DateFrame` with one column labeled `timelines` and then join our two `DateFrames` horizontally, i.e. along `axis = 1`."
   ]
  },
  {
   "cell_type": "markdown",
   "metadata": {},
   "source": [
    "### Take a deep breath. This was a major piece of coding. "
   ]
  },
  {
   "cell_type": "markdown",
   "metadata": {},
   "source": [
    "Now you have the timeline, that is the statuses, for each of your accounts in the `DataFrame`. But these are still in the raw format which the Twitter API returns, so we need to transform them into a format that allows us to to work with them more easily. In the end, we want to get at the the topics and persons our accounts tweet about."
   ]
  },
  {
   "cell_type": "markdown",
   "metadata": {},
   "source": [
    "**Exercise 5. Getting the tweet texts from the timeline.** Extract the text from the tweets in each account's timeline, combine them into a list, turn the list of lists into a `DataFrame`, and join the new and old `DataFrames`. One way to do this is to 1) create an empty list 'tweets', 2) loop through the indices in your `DataFrame`, 3) for each index/row loop through the timeline, 4) create a temporary list, append the text for each timeline element to that list, then append the temporary list to 'tweets' 5) turn the list into a `DataFrame` and 6) merge the two `DataFrames` horizontally."
   ]
  },
  {
   "cell_type": "markdown",
   "metadata": {},
   "source": [
    "**Exercise 6. Turning our list of tweet texts into a long string.** To get a sense of what our accounts usually tweet about, it might be useful to have their tweets in one long string that allows us to easily count the words they use. Create a list that holds the long string of tweets for each user. We can concatenate our list of tweets/strings using the [join](https://docs.python.org/2/library/string.html#string.join) command for which you can find a usage example [here](https://stackoverflow.com/a/493842).\n",
    "\n",
    "Turn the list into a `DataFrame` and merge it with your main `DataFrame` horizontally. "
   ]
  },
  {
   "cell_type": "markdown",
   "metadata": {},
   "source": [
    "**Exercise 7. Finding hashtags and mentions.** Now that we have all the tweets for each account in one long string, we can start looking at the topics the accounts are tweeting about and who they are interacting with. To do so, you can use the [`findall`](https://docs.python.org/3/library/re.html#re.findall) function from the `re` package to extract all hashtags (starting with a \"#\") and mentions (starting with an \"@\"). Add one column for hashtags and mentions respectively to your `DataFrame`."
   ]
  },
  {
   "cell_type": "markdown",
   "metadata": {},
   "source": [
    "**Exercise 8. Writing your insights to a file.** You have just generated some really awesome insights about the accounts you identified earlier. To share your insights, that is the topics/hashtags your accounts tweet about, you should now write the hashtags to a text file–if you want to remind yourself, we covered this in week 3 day 1. Can you make it so the text file first lists the name and then the hashtags the account uses?"
   ]
  },
  {
   "cell_type": "markdown",
   "metadata": {},
   "source": [
    "**Exercise 9. Descriptive statistics about your accounts.** We closed last week with talking about descriptive statistics. For the accounts you gathered, there are at least three variables that you might be interested to know more about. What are the minimum, maximum, and mean for the number of followers, friends, and posted statuses in you data?"
   ]
  },
  {
   "cell_type": "markdown",
   "metadata": {},
   "source": [
    "**Exercise 10. Visualizing influence.** To round off this exercise, let's plot some data from the accounts you collected. Make a bar plot to show which of the accounts has the most influence on Twitter. _Hint:_ You might want to look at `followers_count`."
   ]
  },
  {
   "cell_type": "markdown",
   "metadata": {},
   "source": [
    "**Exercise 11. Understanding influence.** Now that you know who is most influential among your accounts, try to see if the data you get from Twitter allows you to explore what might explain that influence. Look into your data and plot the follower count against another variable. Is there a pattern?"
   ]
  },
  {
   "cell_type": "markdown",
   "metadata": {},
   "source": [
    "**THERE IS ALWAYS MORE.** If you got all the way through this exercise and are still hungry for more, here are some suggestions for other things you could do:\n",
    "\n",
    "1. To get an even better sense of what your accounts tweet about than just using hashtags, you could count the most used words. Create a list that, for each account has a dictionary of the frequency of each word with stop words removed. Remember, you can reuse your code from W3D1. You can get a list of stop words from [here](http://ir.dcs.gla.ac.uk/resources/linguistic_utils/stop_words). These are also stored in `stop_words.txt`. Add a column to your dataframe for most used words. \n",
    "2. Extract the number of favorites and retweets from the timelines you gathered. Is there any relationship between the number of followers and these figures? How about between these figures and the number of friends?\n",
    "3. Researchers often use Twitter because we can do respondent-driven sampling, i.e. we start with a few accounts and then collect the accounts that follow these accounts to get a broader picture of the network. Start exploring the networks of the accounts you collected using the [`followers`](https://tweepy.readthedocs.io/en/latest/api.html#API.followers) command.\n",
    "4. Given that the accounts you collected are similar in that they tweet about your topic of choice, it might be interesting know if there are issues that distinguish the accounts. Researchers often use term frequency-inverse document frequency to study such differences. [Here](https://www.freecodecamp.org/news/how-to-process-textual-data-using-tf-idf-in-python-cd2bbc0a94a3/) is a primer on the concept and a tutorial on how to implement it in Python. Can you find distinguishes your accounts from one another?"
   ]
  }
 ],
 "metadata": {
  "kernelspec": {
   "display_name": "Python 3",
   "language": "python",
   "name": "python3"
  },
  "language_info": {
   "codemirror_mode": {
    "name": "ipython",
    "version": 3
   },
   "file_extension": ".py",
   "mimetype": "text/x-python",
   "name": "python",
   "nbconvert_exporter": "python",
   "pygments_lexer": "ipython3",
   "version": "3.7.4"
  }
 },
 "nbformat": 4,
 "nbformat_minor": 2
}
