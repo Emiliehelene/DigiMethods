{
 "cells": [
  {
   "cell_type": "markdown",
   "metadata": {},
   "source": [
    "# Demo W6D1: Data Analysis Tools I - Pandas"
   ]
  },
  {
   "cell_type": "markdown",
   "metadata": {},
   "source": [
    "<img src=\"pandas-chaos.jpg\" width=\"400\">\n"
   ]
  },
  {
   "cell_type": "markdown",
   "metadata": {},
   "source": [
    "### 6.1.1 Series\n",
    "\n",
    "**Creating series from dictionaries.** First, let's important the `pandas` module, define a dictionary, and see how we can turn it into a series."
   ]
  },
  {
   "cell_type": "code",
   "execution_count": 1,
   "metadata": {},
   "outputs": [],
   "source": [
    "import pandas as pd"
   ]
  },
  {
   "cell_type": "code",
   "execution_count": 2,
   "metadata": {},
   "outputs": [],
   "source": [
    "# # IF THE CELL ABOVE IMPORTING PANDAS THROWS AN ERROR\n",
    "# # TRY UNCOMMENTING THE LAST TWO LINES IN THIS CELL, THEN RUN IT\n",
    "# # THEN RERUN THE CELL IMPORTING PANDAS\n",
    "# import sys\n",
    "# ! conda install --yes --prefix {sys.prefix} -c conda-forge pandas"
   ]
  },
  {
   "cell_type": "code",
   "execution_count": 3,
   "metadata": {
    "scrolled": true
   },
   "outputs": [],
   "source": [
    "violent_rates_dict = {\"Belfast East\": 13.9,\n",
    "                      \"Belfast North\": 24.2,\n",
    "                      \"Belfast South\": 20.6,\n",
    "                      \"Belfast West\": 25.4\n",
    "                     }\n",
    "\n",
    "vrni_series = pd.Series(violent_rates_dict)"
   ]
  },
  {
   "cell_type": "markdown",
   "metadata": {},
   "source": [
    "Let's look at the dictionary. It contains the by now familiary keys and values."
   ]
  },
  {
   "cell_type": "code",
   "execution_count": 4,
   "metadata": {},
   "outputs": [
    {
     "data": {
      "text/plain": [
       "{'Belfast East': 13.9,\n",
       " 'Belfast North': 24.2,\n",
       " 'Belfast South': 20.6,\n",
       " 'Belfast West': 25.4}"
      ]
     },
     "execution_count": 4,
     "metadata": {},
     "output_type": "execute_result"
    }
   ],
   "source": [
    "violent_rates_dict"
   ]
  },
  {
   "cell_type": "markdown",
   "metadata": {},
   "source": [
    "Now, let's look at the same data as a `pandas` series. This is much easier to read, since it comes in a tabular format with one column for indices and one column for values."
   ]
  },
  {
   "cell_type": "code",
   "execution_count": 5,
   "metadata": {},
   "outputs": [
    {
     "data": {
      "text/plain": [
       "Belfast East     13.9\n",
       "Belfast North    24.2\n",
       "Belfast South    20.6\n",
       "Belfast West     25.4\n",
       "dtype: float64"
      ]
     },
     "execution_count": 5,
     "metadata": {},
     "output_type": "execute_result"
    }
   ],
   "source": [
    "vrni_series"
   ]
  },
  {
   "cell_type": "markdown",
   "metadata": {},
   "source": [
    "**Accessing data in a series.** To draw specific content from a `pandas` series, we can use the string indices like in a dictionary."
   ]
  },
  {
   "cell_type": "code",
   "execution_count": 6,
   "metadata": {},
   "outputs": [
    {
     "data": {
      "text/plain": [
       "13.9"
      ]
     },
     "execution_count": 6,
     "metadata": {},
     "output_type": "execute_result"
    }
   ],
   "source": [
    "vrni_series['Belfast East']"
   ]
  },
  {
   "cell_type": "markdown",
   "metadata": {},
   "source": [
    "But, we can also use numeric indices like in lists since series are ordered. Using a single numeric index, returns the value stored in the series at the specified position."
   ]
  },
  {
   "cell_type": "code",
   "execution_count": 7,
   "metadata": {},
   "outputs": [
    {
     "data": {
      "text/plain": [
       "13.9"
      ]
     },
     "execution_count": 7,
     "metadata": {},
     "output_type": "execute_result"
    }
   ],
   "source": [
    "vrni_series[0]\n",
    "#Here we are indexing the first element of the series. What kind of object comes out? \n"
   ]
  },
  {
   "cell_type": "markdown",
   "metadata": {},
   "source": [
    "If we instead specify a range of indices, i.e. slice the data, we get a subset of the series including the character indices, their associated values, and an indicator of the series type."
   ]
  },
  {
   "cell_type": "code",
   "execution_count": 8,
   "metadata": {},
   "outputs": [
    {
     "data": {
      "text/plain": [
       "Belfast East     13.9\n",
       "Belfast North    24.2\n",
       "Belfast South    20.6\n",
       "dtype: float64"
      ]
     },
     "execution_count": 8,
     "metadata": {},
     "output_type": "execute_result"
    }
   ],
   "source": [
    "vrni_series[0:3]\n",
    "#Down here we are doing it for multiple values in the series. "
   ]
  },
  {
   "cell_type": "markdown",
   "metadata": {},
   "source": [
    "**Question.** What is the type of the value returned if we specify one numeric index in the series? What is the type if we slice the list?"
   ]
  },
  {
   "cell_type": "markdown",
   "metadata": {},
   "source": [
    "As with lists, we can also slice the series at select indices instead of using a range of indices. To do so, we need to index the series using `[[`; where the innermost `[` define a list of indices and the outermost `[` index the series. The cell below returns the first and last entry in the series, first by specifying the numeric index then by specifying the character index."
   ]
  },
  {
   "cell_type": "code",
   "execution_count": 10,
   "metadata": {},
   "outputs": [
    {
     "name": "stdout",
     "output_type": "stream",
     "text": [
      "Belfast East    13.9\n",
      "Belfast West    25.4\n",
      "dtype: float64\n",
      "Belfast East    13.9\n",
      "Belfast West    25.4\n",
      "dtype: float64\n"
     ]
    }
   ],
   "source": [
    "print(vrni_series[[0,-1]])\n",
    "print(vrni_series[['Belfast East','Belfast West']])\n",
    "#Here we index element from the front and the back. The first 0 is the beginning and the negativ is the first from the back\n",
    "#Also be aware of the dobble brackets here"
   ]
  },
  {
   "cell_type": "markdown",
   "metadata": {},
   "source": [
    "**Creating series from other data structures.** Now, let's see how we can create series from other data structures than dictionaries, starting with lists."
   ]
  },
  {
   "cell_type": "code",
   "execution_count": 11,
   "metadata": {},
   "outputs": [],
   "source": [
    "constituency_names = [\"Belfast East\", \n",
    "                      \"Belfast North\", \n",
    "                      \"Belfast South\", \n",
    "                      \"Belfast West\"]\n",
    "\n",
    "violent_rates_list = [13.9,\n",
    "                      24.2,\n",
    "                      20.6,\n",
    "                      25.4]"
   ]
  },
  {
   "cell_type": "markdown",
   "metadata": {},
   "source": [
    "To create a series from two lists containing values and character indices, we can pass the values as the first argument to the `Series` command and specify the argument `index` as equal to the list of indices."
   ]
  },
  {
   "cell_type": "code",
   "execution_count": 12,
   "metadata": {},
   "outputs": [
    {
     "data": {
      "text/plain": [
       "Belfast East     13.9\n",
       "Belfast North    24.2\n",
       "Belfast South    20.6\n",
       "Belfast West     25.4\n",
       "dtype: float64"
      ]
     },
     "execution_count": 12,
     "metadata": {},
     "output_type": "execute_result"
    }
   ],
   "source": [
    "vrni_series_from_lists = pd.Series(violent_rates_list, index = constituency_names)\n",
    "\n",
    "vrni_series_from_lists"
   ]
  },
  {
   "cell_type": "markdown",
   "metadata": {},
   "source": [
    "If we want to ensure that we have the same data in the two series we have created so far, we can ask Python to compare them, which will compare the values at each index position to each other. "
   ]
  },
  {
   "cell_type": "code",
   "execution_count": 14,
   "metadata": {},
   "outputs": [
    {
     "data": {
      "text/plain": [
       "Belfast East     True\n",
       "Belfast North    True\n",
       "Belfast South    True\n",
       "Belfast West     True\n",
       "dtype: bool"
      ]
     },
     "execution_count": 14,
     "metadata": {},
     "output_type": "execute_result"
    }
   ],
   "source": [
    "vrni_series_from_lists == vrni_series\n",
    "#Here we are comparing two different list to see if they are the same"
   ]
  },
  {
   "cell_type": "markdown",
   "metadata": {},
   "source": [
    "Or, we can check to see if _all_ values in the series are equal at each index position."
   ]
  },
  {
   "cell_type": "code",
   "execution_count": 15,
   "metadata": {},
   "outputs": [
    {
     "data": {
      "text/plain": [
       "True"
      ]
     },
     "execution_count": 15,
     "metadata": {},
     "output_type": "execute_result"
    }
   ],
   "source": [
    "all (vrni_series_from_lists == vrni_series)\n",
    "#Here we compare all series"
   ]
  },
  {
   "cell_type": "markdown",
   "metadata": {},
   "source": [
    "If we forget to specify the series indices when we create it, we can specify them after the fact by assigning the list of indices to the `index` attribute."
   ]
  },
  {
   "cell_type": "code",
   "execution_count": 16,
   "metadata": {},
   "outputs": [
    {
     "data": {
      "text/plain": [
       "0    13.9\n",
       "1    24.2\n",
       "2    20.6\n",
       "3    25.4\n",
       "dtype: float64"
      ]
     },
     "execution_count": 16,
     "metadata": {},
     "output_type": "execute_result"
    }
   ],
   "source": [
    "vrni_series_from_lists = pd.Series(violent_rates_list)\n",
    "\n",
    "vrni_series_from_lists\n",
    "#Here we can also create a series from a list"
   ]
  },
  {
   "cell_type": "code",
   "execution_count": 17,
   "metadata": {},
   "outputs": [
    {
     "data": {
      "text/plain": [
       "Belfast East     13.9\n",
       "Belfast North    24.2\n",
       "Belfast South    20.6\n",
       "Belfast West     25.4\n",
       "dtype: float64"
      ]
     },
     "execution_count": 17,
     "metadata": {},
     "output_type": "execute_result"
    }
   ],
   "source": [
    "vrni_series_from_lists.index = constituency_names\n",
    "\n",
    "vrni_series_from_lists"
   ]
  },
  {
   "cell_type": "markdown",
   "metadata": {},
   "source": [
    "**Numerical operations with series.** `Pandas` series can contain any type of data and have different commands applicable to each type of data. For numeric data you might be interested in descriptive statistics which we will cover in the next session. For all types of data, you can count the number of data points in your series using the `count` command. Note that this counts only non-missing data points."
   ]
  },
  {
   "cell_type": "code",
   "execution_count": 18,
   "metadata": {},
   "outputs": [
    {
     "data": {
      "text/plain": [
       "4"
      ]
     },
     "execution_count": 18,
     "metadata": {},
     "output_type": "execute_result"
    }
   ],
   "source": [
    "vrni_series_from_lists.count()"
   ]
  },
  {
   "cell_type": "code",
   "execution_count": 19,
   "metadata": {},
   "outputs": [
    {
     "data": {
      "text/plain": [
       "4"
      ]
     },
     "execution_count": 19,
     "metadata": {},
     "output_type": "execute_result"
    }
   ],
   "source": [
    "len(vrni_series_from_lists)"
   ]
  },
  {
   "cell_type": "markdown",
   "metadata": {},
   "source": [
    "Here, we are appending an entry to our `Series` with a missing value."
   ]
  },
  {
   "cell_type": "code",
   "execution_count": 23,
   "metadata": {},
   "outputs": [
    {
     "data": {
      "text/plain": [
       "Belfast East     13.9\n",
       "Belfast North    24.2\n",
       "Belfast South    20.6\n",
       "Belfast West     25.4\n",
       "0                 NaN\n",
       "dtype: float64"
      ]
     },
     "execution_count": 23,
     "metadata": {},
     "output_type": "execute_result"
    }
   ],
   "source": [
    "import numpy as np\n",
    "\n",
    "vrni_series_with_missing = vrni_series_from_lists.append(pd.Series(np.NaN))\n",
    "\n",
    "vrni_series_with_missing\n",
    "#Here we a counting the missing values. E.g. if you want to know how many people haven't answered a specific question\n"
   ]
  },
  {
   "cell_type": "code",
   "execution_count": 21,
   "metadata": {},
   "outputs": [
    {
     "data": {
      "text/plain": [
       "4"
      ]
     },
     "execution_count": 21,
     "metadata": {},
     "output_type": "execute_result"
    }
   ],
   "source": [
    "vrni_series_with_missing.count()\n",
    "#Here count will count the missing values. So we know that there are four missing values "
   ]
  },
  {
   "cell_type": "code",
   "execution_count": 22,
   "metadata": {},
   "outputs": [
    {
     "data": {
      "text/plain": [
       "5"
      ]
     },
     "execution_count": 22,
     "metadata": {},
     "output_type": "execute_result"
    }
   ],
   "source": [
    "len(vrni_series_with_missing)"
   ]
  },
  {
   "cell_type": "markdown",
   "metadata": {},
   "source": [
    "### 6.1.2 DataFrames\n",
    "\n",
    "**Creating DataFrames from dictionaries.** In most applied cases, you will be interested to have more than one value associated with each observation. To accommodate this, `pandas` introduces `DataFrame` containers which we can also construct from dictionaries."
   ]
  },
  {
   "cell_type": "markdown",
   "metadata": {},
   "source": [
    "Below, we first define two additional lists containing values for our constituencies, then we construct a dictionary from the four lists and keys we assign to them. Finally, we turn this complex dictionary containing four keys and values consisting of lists into a neat `DataFrame`."
   ]
  },
  {
   "cell_type": "code",
   "execution_count": 24,
   "metadata": {},
   "outputs": [],
   "source": [
    "theft_rates = [7.6, 11.2, 14.7, 10.9]\n",
    "veh_crime_rates = [1.8, 3.4, 4.5, 5.6]\n",
    "\n",
    "#Here we create the keys and add the values to the keys. Afterwards we put this in to our dataframe\n",
    "complex_dictionary = {\"Name\": constituency_names,\n",
    "                      \"Violence Rate\": violent_rates_list,\n",
    "                      \"Theft Rate\": theft_rates,\n",
    "                      \"Veh Crime Rate\": veh_crime_rates}\n",
    "\n",
    "df_from_dict = pd.DataFrame(complex_dictionary)\n"
   ]
  },
  {
   "cell_type": "markdown",
   "metadata": {},
   "source": [
    "What does the dictionary look like?"
   ]
  },
  {
   "cell_type": "code",
   "execution_count": 25,
   "metadata": {},
   "outputs": [
    {
     "data": {
      "text/plain": [
       "{'Name': ['Belfast East', 'Belfast North', 'Belfast South', 'Belfast West'],\n",
       " 'Violence Rate': [13.9, 24.2, 20.6, 25.4],\n",
       " 'Theft Rate': [7.6, 11.2, 14.7, 10.9],\n",
       " 'Veh Crime Rate': [1.8, 3.4, 4.5, 5.6]}"
      ]
     },
     "execution_count": 25,
     "metadata": {},
     "output_type": "execute_result"
    }
   ],
   "source": [
    "complex_dictionary\n",
    "#Now we print our new datafrana"
   ]
  },
  {
   "cell_type": "markdown",
   "metadata": {},
   "source": [
    "And what does the same data look like in a `DataFrame` container?"
   ]
  },
  {
   "cell_type": "code",
   "execution_count": 26,
   "metadata": {},
   "outputs": [
    {
     "data": {
      "text/html": [
       "<div>\n",
       "<style scoped>\n",
       "    .dataframe tbody tr th:only-of-type {\n",
       "        vertical-align: middle;\n",
       "    }\n",
       "\n",
       "    .dataframe tbody tr th {\n",
       "        vertical-align: top;\n",
       "    }\n",
       "\n",
       "    .dataframe thead th {\n",
       "        text-align: right;\n",
       "    }\n",
       "</style>\n",
       "<table border=\"1\" class=\"dataframe\">\n",
       "  <thead>\n",
       "    <tr style=\"text-align: right;\">\n",
       "      <th></th>\n",
       "      <th>Name</th>\n",
       "      <th>Violence Rate</th>\n",
       "      <th>Theft Rate</th>\n",
       "      <th>Veh Crime Rate</th>\n",
       "    </tr>\n",
       "  </thead>\n",
       "  <tbody>\n",
       "    <tr>\n",
       "      <td>0</td>\n",
       "      <td>Belfast East</td>\n",
       "      <td>13.9</td>\n",
       "      <td>7.6</td>\n",
       "      <td>1.8</td>\n",
       "    </tr>\n",
       "    <tr>\n",
       "      <td>1</td>\n",
       "      <td>Belfast North</td>\n",
       "      <td>24.2</td>\n",
       "      <td>11.2</td>\n",
       "      <td>3.4</td>\n",
       "    </tr>\n",
       "    <tr>\n",
       "      <td>2</td>\n",
       "      <td>Belfast South</td>\n",
       "      <td>20.6</td>\n",
       "      <td>14.7</td>\n",
       "      <td>4.5</td>\n",
       "    </tr>\n",
       "    <tr>\n",
       "      <td>3</td>\n",
       "      <td>Belfast West</td>\n",
       "      <td>25.4</td>\n",
       "      <td>10.9</td>\n",
       "      <td>5.6</td>\n",
       "    </tr>\n",
       "  </tbody>\n",
       "</table>\n",
       "</div>"
      ],
      "text/plain": [
       "            Name  Violence Rate  Theft Rate  Veh Crime Rate\n",
       "0   Belfast East           13.9         7.6             1.8\n",
       "1  Belfast North           24.2        11.2             3.4\n",
       "2  Belfast South           20.6        14.7             4.5\n",
       "3   Belfast West           25.4        10.9             5.6"
      ]
     },
     "execution_count": 26,
     "metadata": {},
     "output_type": "execute_result"
    }
   ],
   "source": [
    "df_from_dict"
   ]
  },
  {
   "cell_type": "markdown",
   "metadata": {},
   "source": [
    "**Creating DataFrames from other data structures.** First, a `DataFrame` out of lists of tuples."
   ]
  },
  {
   "cell_type": "code",
   "execution_count": 28,
   "metadata": {},
   "outputs": [],
   "source": [
    "list_of_tuples = [(\"Belfast East\", 13.9, 7.6, 1.8),\n",
    "                  (\"Belfast North\", 24.2, 11.2, 3.4),\n",
    "                  (\"Belfast South\", 20.6, 14.7, 4.5),\n",
    "                  (\"Belfast West\", 25.4, 10.9, 5.6)]\n",
    "\n",
    "df_from_list_of_tuples = pd.DataFrame(list_of_tuples)\n",
    "#Here we pass the list of tuples to the dataframe function"
   ]
  },
  {
   "cell_type": "markdown",
   "metadata": {},
   "source": [
    "This also creates a neat `DataFrame` but does not give us the column headings or variable names."
   ]
  },
  {
   "cell_type": "code",
   "execution_count": 29,
   "metadata": {},
   "outputs": [
    {
     "data": {
      "text/html": [
       "<div>\n",
       "<style scoped>\n",
       "    .dataframe tbody tr th:only-of-type {\n",
       "        vertical-align: middle;\n",
       "    }\n",
       "\n",
       "    .dataframe tbody tr th {\n",
       "        vertical-align: top;\n",
       "    }\n",
       "\n",
       "    .dataframe thead th {\n",
       "        text-align: right;\n",
       "    }\n",
       "</style>\n",
       "<table border=\"1\" class=\"dataframe\">\n",
       "  <thead>\n",
       "    <tr style=\"text-align: right;\">\n",
       "      <th></th>\n",
       "      <th>0</th>\n",
       "      <th>1</th>\n",
       "      <th>2</th>\n",
       "      <th>3</th>\n",
       "    </tr>\n",
       "  </thead>\n",
       "  <tbody>\n",
       "    <tr>\n",
       "      <td>0</td>\n",
       "      <td>Belfast East</td>\n",
       "      <td>13.9</td>\n",
       "      <td>7.6</td>\n",
       "      <td>1.8</td>\n",
       "    </tr>\n",
       "    <tr>\n",
       "      <td>1</td>\n",
       "      <td>Belfast North</td>\n",
       "      <td>24.2</td>\n",
       "      <td>11.2</td>\n",
       "      <td>3.4</td>\n",
       "    </tr>\n",
       "    <tr>\n",
       "      <td>2</td>\n",
       "      <td>Belfast South</td>\n",
       "      <td>20.6</td>\n",
       "      <td>14.7</td>\n",
       "      <td>4.5</td>\n",
       "    </tr>\n",
       "    <tr>\n",
       "      <td>3</td>\n",
       "      <td>Belfast West</td>\n",
       "      <td>25.4</td>\n",
       "      <td>10.9</td>\n",
       "      <td>5.6</td>\n",
       "    </tr>\n",
       "  </tbody>\n",
       "</table>\n",
       "</div>"
      ],
      "text/plain": [
       "               0     1     2    3\n",
       "0   Belfast East  13.9   7.6  1.8\n",
       "1  Belfast North  24.2  11.2  3.4\n",
       "2  Belfast South  20.6  14.7  4.5\n",
       "3   Belfast West  25.4  10.9  5.6"
      ]
     },
     "execution_count": 29,
     "metadata": {},
     "output_type": "execute_result"
    }
   ],
   "source": [
    "df_from_list_of_tuples"
   ]
  },
  {
   "cell_type": "markdown",
   "metadata": {},
   "source": [
    "Second, a `DataFrame` out of a list of dictionaries."
   ]
  },
  {
   "cell_type": "code",
   "execution_count": 31,
   "metadata": {},
   "outputs": [],
   "source": [
    "list_of_dicts = [{\"Name\": \"Belfast East\",\n",
    "                  \"Violence Rate\": 13.9,\n",
    "                  \"Theft Rate\": 7.6,\n",
    "                  \"Veh Crime Rate\": 1.8},\n",
    "                 {\"Name\": \"Belfast North\", \n",
    "                  \"Violence Rate\": 24.2,\n",
    "                  \"Theft Rate\": 11.2, \n",
    "                  \"Veh Crime Rate\": 3.4},\n",
    "                 {\"Name\": \"Belfast South\", \n",
    "                  \"Violence Rate\": 20.6, \n",
    "                  \"Theft Rate\": 14.7,\n",
    "                  \"Veh Crime Rate\": 4.5},\n",
    "                 {\"Name\": \"Belfast West\", \n",
    "                  \"Violence Rate\": 25.4, \n",
    "                  \"Theft Rate\": 10.9, \n",
    "                  \"Veh Crime Rate\": 5.6}]\n",
    "\n",
    "df_from_list_of_dicts = pd.DataFrame(list_of_dicts)\n",
    "\n",
    "#Here we could fx have a dictionary for each student, and add them into a dataframe function"
   ]
  },
  {
   "cell_type": "markdown",
   "metadata": {},
   "source": [
    "Another neat `DataFrame` with column headings."
   ]
  },
  {
   "cell_type": "code",
   "execution_count": 32,
   "metadata": {
    "scrolled": true
   },
   "outputs": [
    {
     "data": {
      "text/html": [
       "<div>\n",
       "<style scoped>\n",
       "    .dataframe tbody tr th:only-of-type {\n",
       "        vertical-align: middle;\n",
       "    }\n",
       "\n",
       "    .dataframe tbody tr th {\n",
       "        vertical-align: top;\n",
       "    }\n",
       "\n",
       "    .dataframe thead th {\n",
       "        text-align: right;\n",
       "    }\n",
       "</style>\n",
       "<table border=\"1\" class=\"dataframe\">\n",
       "  <thead>\n",
       "    <tr style=\"text-align: right;\">\n",
       "      <th></th>\n",
       "      <th>Name</th>\n",
       "      <th>Violence Rate</th>\n",
       "      <th>Theft Rate</th>\n",
       "      <th>Veh Crime Rate</th>\n",
       "    </tr>\n",
       "  </thead>\n",
       "  <tbody>\n",
       "    <tr>\n",
       "      <td>0</td>\n",
       "      <td>Belfast East</td>\n",
       "      <td>13.9</td>\n",
       "      <td>7.6</td>\n",
       "      <td>1.8</td>\n",
       "    </tr>\n",
       "    <tr>\n",
       "      <td>1</td>\n",
       "      <td>Belfast North</td>\n",
       "      <td>24.2</td>\n",
       "      <td>11.2</td>\n",
       "      <td>3.4</td>\n",
       "    </tr>\n",
       "    <tr>\n",
       "      <td>2</td>\n",
       "      <td>Belfast South</td>\n",
       "      <td>20.6</td>\n",
       "      <td>14.7</td>\n",
       "      <td>4.5</td>\n",
       "    </tr>\n",
       "    <tr>\n",
       "      <td>3</td>\n",
       "      <td>Belfast West</td>\n",
       "      <td>25.4</td>\n",
       "      <td>10.9</td>\n",
       "      <td>5.6</td>\n",
       "    </tr>\n",
       "  </tbody>\n",
       "</table>\n",
       "</div>"
      ],
      "text/plain": [
       "            Name  Violence Rate  Theft Rate  Veh Crime Rate\n",
       "0   Belfast East           13.9         7.6             1.8\n",
       "1  Belfast North           24.2        11.2             3.4\n",
       "2  Belfast South           20.6        14.7             4.5\n",
       "3   Belfast West           25.4        10.9             5.6"
      ]
     },
     "execution_count": 32,
     "metadata": {},
     "output_type": "execute_result"
    }
   ],
   "source": [
    "df_from_list_of_dicts"
   ]
  },
  {
   "cell_type": "markdown",
   "metadata": {},
   "source": [
    "**Accessing data in a DataFrame.** Like a `pandas` `Series`, we can access the data in a `DataFrame` using string and numeric indices."
   ]
  },
  {
   "cell_type": "markdown",
   "metadata": {},
   "source": [
    "To access the `Name` column, we can index it by it's string name."
   ]
  },
  {
   "cell_type": "code",
   "execution_count": 34,
   "metadata": {},
   "outputs": [
    {
     "data": {
      "text/plain": [
       "0     Belfast East\n",
       "1    Belfast North\n",
       "2    Belfast South\n",
       "3     Belfast West\n",
       "Name: Name, dtype: object"
      ]
     },
     "execution_count": 34,
     "metadata": {},
     "output_type": "execute_result"
    }
   ],
   "source": [
    "df_from_dict['Name']\n",
    "#This is an easy way to find all the names in the column"
   ]
  },
  {
   "cell_type": "markdown",
   "metadata": {},
   "source": [
    "Or access it from the `DataFrame` attribute `Name`."
   ]
  },
  {
   "cell_type": "code",
   "execution_count": 35,
   "metadata": {},
   "outputs": [
    {
     "data": {
      "text/plain": [
       "0     Belfast East\n",
       "1    Belfast North\n",
       "2    Belfast South\n",
       "3     Belfast West\n",
       "Name: Name, dtype: object"
      ]
     },
     "execution_count": 35,
     "metadata": {},
     "output_type": "execute_result"
    }
   ],
   "source": [
    "df_from_dict.Name\n",
    "#"
   ]
  },
  {
   "cell_type": "markdown",
   "metadata": {},
   "source": [
    "**Question.** What happens if we try to access the column \"Veh Crime Rate\" as an attribute of our `DataFrame`?"
   ]
  },
  {
   "cell_type": "markdown",
   "metadata": {},
   "source": [
    "If we don't know the name of the column, we want to index, we can look up all names using the `columns` attribute."
   ]
  },
  {
   "cell_type": "code",
   "execution_count": 37,
   "metadata": {},
   "outputs": [
    {
     "data": {
      "text/plain": [
       "Index(['Name', 'Violence Rate', 'Theft Rate', 'Veh Crime Rate'], dtype='object')"
      ]
     },
     "execution_count": 37,
     "metadata": {},
     "output_type": "execute_result"
    }
   ],
   "source": [
    "df_from_dict.columns\n",
    "#Here we don't have so many columns, but sometimes we do, and then it is very nice to get an overview"
   ]
  },
  {
   "cell_type": "markdown",
   "metadata": {},
   "source": [
    "In addition to looking at the column indices, we can also set them by assigning a list of strings with the length of the columns to the column attribute."
   ]
  },
  {
   "cell_type": "code",
   "execution_count": 38,
   "metadata": {},
   "outputs": [],
   "source": [
    "df_from_dict.columns = ['Name', 'ViolenceRate', 'TheftRate', 'VehCrimeRate']\n"
   ]
  },
  {
   "cell_type": "code",
   "execution_count": 39,
   "metadata": {},
   "outputs": [
    {
     "data": {
      "text/plain": [
       "0    1.8\n",
       "1    3.4\n",
       "2    4.5\n",
       "3    5.6\n",
       "Name: VehCrimeRate, dtype: float64"
      ]
     },
     "execution_count": 39,
     "metadata": {},
     "output_type": "execute_result"
    }
   ],
   "source": [
    "df_from_dict.VehCrimeRate\n",
    "#then we have the data "
   ]
  },
  {
   "cell_type": "markdown",
   "metadata": {},
   "source": [
    "Using numeric indices, allows us to access the rows in the `DataFrame` and functions analogous to indexing lists, i.e. `[StartIndex:EndIndex:StepLength]`"
   ]
  },
  {
   "cell_type": "code",
   "execution_count": 40,
   "metadata": {},
   "outputs": [
    {
     "data": {
      "text/html": [
       "<div>\n",
       "<style scoped>\n",
       "    .dataframe tbody tr th:only-of-type {\n",
       "        vertical-align: middle;\n",
       "    }\n",
       "\n",
       "    .dataframe tbody tr th {\n",
       "        vertical-align: top;\n",
       "    }\n",
       "\n",
       "    .dataframe thead th {\n",
       "        text-align: right;\n",
       "    }\n",
       "</style>\n",
       "<table border=\"1\" class=\"dataframe\">\n",
       "  <thead>\n",
       "    <tr style=\"text-align: right;\">\n",
       "      <th></th>\n",
       "      <th>Name</th>\n",
       "      <th>ViolenceRate</th>\n",
       "      <th>TheftRate</th>\n",
       "      <th>VehCrimeRate</th>\n",
       "    </tr>\n",
       "  </thead>\n",
       "  <tbody>\n",
       "    <tr>\n",
       "      <td>0</td>\n",
       "      <td>Belfast East</td>\n",
       "      <td>13.9</td>\n",
       "      <td>7.6</td>\n",
       "      <td>1.8</td>\n",
       "    </tr>\n",
       "    <tr>\n",
       "      <td>2</td>\n",
       "      <td>Belfast South</td>\n",
       "      <td>20.6</td>\n",
       "      <td>14.7</td>\n",
       "      <td>4.5</td>\n",
       "    </tr>\n",
       "  </tbody>\n",
       "</table>\n",
       "</div>"
      ],
      "text/plain": [
       "            Name  ViolenceRate  TheftRate  VehCrimeRate\n",
       "0   Belfast East          13.9        7.6           1.8\n",
       "2  Belfast South          20.6       14.7           4.5"
      ]
     },
     "execution_count": 40,
     "metadata": {},
     "output_type": "execute_result"
    }
   ],
   "source": [
    "df_from_dict[0::2]\n",
    "#Here the : means that we are going to the end, and the :2 means that we want every second row"
   ]
  },
  {
   "cell_type": "markdown",
   "metadata": {},
   "source": [
    "We can also access the same rows by passing a list of booleans (True/False) to the indexing brackets. NB that there are two sets of `[`, one for the indexing the other to define the list of booleans."
   ]
  },
  {
   "cell_type": "code",
   "execution_count": 41,
   "metadata": {},
   "outputs": [
    {
     "data": {
      "text/html": [
       "<div>\n",
       "<style scoped>\n",
       "    .dataframe tbody tr th:only-of-type {\n",
       "        vertical-align: middle;\n",
       "    }\n",
       "\n",
       "    .dataframe tbody tr th {\n",
       "        vertical-align: top;\n",
       "    }\n",
       "\n",
       "    .dataframe thead th {\n",
       "        text-align: right;\n",
       "    }\n",
       "</style>\n",
       "<table border=\"1\" class=\"dataframe\">\n",
       "  <thead>\n",
       "    <tr style=\"text-align: right;\">\n",
       "      <th></th>\n",
       "      <th>Name</th>\n",
       "      <th>ViolenceRate</th>\n",
       "      <th>TheftRate</th>\n",
       "      <th>VehCrimeRate</th>\n",
       "    </tr>\n",
       "  </thead>\n",
       "  <tbody>\n",
       "    <tr>\n",
       "      <td>0</td>\n",
       "      <td>Belfast East</td>\n",
       "      <td>13.9</td>\n",
       "      <td>7.6</td>\n",
       "      <td>1.8</td>\n",
       "    </tr>\n",
       "    <tr>\n",
       "      <td>2</td>\n",
       "      <td>Belfast South</td>\n",
       "      <td>20.6</td>\n",
       "      <td>14.7</td>\n",
       "      <td>4.5</td>\n",
       "    </tr>\n",
       "  </tbody>\n",
       "</table>\n",
       "</div>"
      ],
      "text/plain": [
       "            Name  ViolenceRate  TheftRate  VehCrimeRate\n",
       "0   Belfast East          13.9        7.6           1.8\n",
       "2  Belfast South          20.6       14.7           4.5"
      ]
     },
     "execution_count": 41,
     "metadata": {},
     "output_type": "execute_result"
    }
   ],
   "source": [
    "df_from_dict[[True, False, True, False]]\n",
    "#This is another way of writing a list or a data frame, where we get the same as above. We get the second value here as well"
   ]
  },
  {
   "cell_type": "markdown",
   "metadata": {},
   "source": [
    "As with `Series`, we can add a character `index` to our `DataFrame` that we can then use to index the values in specific cells. "
   ]
  },
  {
   "cell_type": "code",
   "execution_count": 42,
   "metadata": {},
   "outputs": [
    {
     "data": {
      "text/html": [
       "<div>\n",
       "<style scoped>\n",
       "    .dataframe tbody tr th:only-of-type {\n",
       "        vertical-align: middle;\n",
       "    }\n",
       "\n",
       "    .dataframe tbody tr th {\n",
       "        vertical-align: top;\n",
       "    }\n",
       "\n",
       "    .dataframe thead th {\n",
       "        text-align: right;\n",
       "    }\n",
       "</style>\n",
       "<table border=\"1\" class=\"dataframe\">\n",
       "  <thead>\n",
       "    <tr style=\"text-align: right;\">\n",
       "      <th></th>\n",
       "      <th>Name</th>\n",
       "      <th>ViolenceRate</th>\n",
       "      <th>TheftRate</th>\n",
       "      <th>VehCrimeRate</th>\n",
       "    </tr>\n",
       "  </thead>\n",
       "  <tbody>\n",
       "    <tr>\n",
       "      <td>BE</td>\n",
       "      <td>Belfast East</td>\n",
       "      <td>13.9</td>\n",
       "      <td>7.6</td>\n",
       "      <td>1.8</td>\n",
       "    </tr>\n",
       "    <tr>\n",
       "      <td>BN</td>\n",
       "      <td>Belfast North</td>\n",
       "      <td>24.2</td>\n",
       "      <td>11.2</td>\n",
       "      <td>3.4</td>\n",
       "    </tr>\n",
       "    <tr>\n",
       "      <td>BS</td>\n",
       "      <td>Belfast South</td>\n",
       "      <td>20.6</td>\n",
       "      <td>14.7</td>\n",
       "      <td>4.5</td>\n",
       "    </tr>\n",
       "    <tr>\n",
       "      <td>BW</td>\n",
       "      <td>Belfast West</td>\n",
       "      <td>25.4</td>\n",
       "      <td>10.9</td>\n",
       "      <td>5.6</td>\n",
       "    </tr>\n",
       "  </tbody>\n",
       "</table>\n",
       "</div>"
      ],
      "text/plain": [
       "             Name  ViolenceRate  TheftRate  VehCrimeRate\n",
       "BE   Belfast East          13.9        7.6           1.8\n",
       "BN  Belfast North          24.2       11.2           3.4\n",
       "BS  Belfast South          20.6       14.7           4.5\n",
       "BW   Belfast West          25.4       10.9           5.6"
      ]
     },
     "execution_count": 42,
     "metadata": {},
     "output_type": "execute_result"
    }
   ],
   "source": [
    "constituency_initials = [\"BE\", \"BN\", \"BS\", \"BW\"]\n",
    "#Here we are creating a list of labels that we want to use. Then we add it to our dict\n",
    "df_from_dict.index = constituency_initials\n",
    "\n",
    "df_from_dict\n",
    "#Below we can now see that BE is the same as Belfast East and so on"
   ]
  },
  {
   "cell_type": "code",
   "execution_count": 46,
   "metadata": {},
   "outputs": [
    {
     "ename": "KeyError",
     "evalue": "False",
     "output_type": "error",
     "traceback": [
      "\u001b[0;31m---------------------------------------------------------------------------\u001b[0m",
      "\u001b[0;31mKeyError\u001b[0m                                  Traceback (most recent call last)",
      "\u001b[0;32m/opt/anaconda3/lib/python3.7/site-packages/pandas/core/indexes/base.py\u001b[0m in \u001b[0;36mget_loc\u001b[0;34m(self, key, method, tolerance)\u001b[0m\n\u001b[1;32m   2896\u001b[0m             \u001b[0;32mtry\u001b[0m\u001b[0;34m:\u001b[0m\u001b[0;34m\u001b[0m\u001b[0;34m\u001b[0m\u001b[0m\n\u001b[0;32m-> 2897\u001b[0;31m                 \u001b[0;32mreturn\u001b[0m \u001b[0mself\u001b[0m\u001b[0;34m.\u001b[0m\u001b[0m_engine\u001b[0m\u001b[0;34m.\u001b[0m\u001b[0mget_loc\u001b[0m\u001b[0;34m(\u001b[0m\u001b[0mkey\u001b[0m\u001b[0;34m)\u001b[0m\u001b[0;34m\u001b[0m\u001b[0;34m\u001b[0m\u001b[0m\n\u001b[0m\u001b[1;32m   2898\u001b[0m             \u001b[0;32mexcept\u001b[0m \u001b[0mKeyError\u001b[0m\u001b[0;34m:\u001b[0m\u001b[0;34m\u001b[0m\u001b[0;34m\u001b[0m\u001b[0m\n",
      "\u001b[0;32mpandas/_libs/index.pyx\u001b[0m in \u001b[0;36mpandas._libs.index.IndexEngine.get_loc\u001b[0;34m()\u001b[0m\n",
      "\u001b[0;32mpandas/_libs/index.pyx\u001b[0m in \u001b[0;36mpandas._libs.index.IndexEngine.get_loc\u001b[0;34m()\u001b[0m\n",
      "\u001b[0;32mpandas/_libs/hashtable_class_helper.pxi\u001b[0m in \u001b[0;36mpandas._libs.hashtable.PyObjectHashTable.get_item\u001b[0;34m()\u001b[0m\n",
      "\u001b[0;32mpandas/_libs/hashtable_class_helper.pxi\u001b[0m in \u001b[0;36mpandas._libs.hashtable.PyObjectHashTable.get_item\u001b[0;34m()\u001b[0m\n",
      "\u001b[0;31mKeyError\u001b[0m: False",
      "\nDuring handling of the above exception, another exception occurred:\n",
      "\u001b[0;31mKeyError\u001b[0m                                  Traceback (most recent call last)",
      "\u001b[0;32m<ipython-input-46-580297d1a193>\u001b[0m in \u001b[0;36m<module>\u001b[0;34m\u001b[0m\n\u001b[0;32m----> 1\u001b[0;31m \u001b[0mdf_from_dict\u001b[0m\u001b[0;34m[\u001b[0m\u001b[0mdf_from_dict\u001b[0m\u001b[0;34m[\u001b[0m\u001b[0;34m\"VehCrimeRate\"\u001b[0m\u001b[0;34m]\u001b[0m\u001b[0;34m[\u001b[0m\u001b[0;34m\"BE\"\u001b[0m\u001b[0;34m]\u001b[0m \u001b[0;34m>\u001b[0m \u001b[0;36m4\u001b[0m\u001b[0;34m]\u001b[0m\u001b[0;34m\u001b[0m\u001b[0;34m\u001b[0m\u001b[0m\n\u001b[0m\u001b[1;32m      2\u001b[0m \u001b[0;31m#If we want to go back to VehCrimeRate  and see if it above 4\u001b[0m\u001b[0;34m\u001b[0m\u001b[0;34m\u001b[0m\u001b[0;34m\u001b[0m\u001b[0m\n",
      "\u001b[0;32m/opt/anaconda3/lib/python3.7/site-packages/pandas/core/frame.py\u001b[0m in \u001b[0;36m__getitem__\u001b[0;34m(self, key)\u001b[0m\n\u001b[1;32m   2978\u001b[0m             \u001b[0;32mif\u001b[0m \u001b[0mself\u001b[0m\u001b[0;34m.\u001b[0m\u001b[0mcolumns\u001b[0m\u001b[0;34m.\u001b[0m\u001b[0mnlevels\u001b[0m \u001b[0;34m>\u001b[0m \u001b[0;36m1\u001b[0m\u001b[0;34m:\u001b[0m\u001b[0;34m\u001b[0m\u001b[0;34m\u001b[0m\u001b[0m\n\u001b[1;32m   2979\u001b[0m                 \u001b[0;32mreturn\u001b[0m \u001b[0mself\u001b[0m\u001b[0;34m.\u001b[0m\u001b[0m_getitem_multilevel\u001b[0m\u001b[0;34m(\u001b[0m\u001b[0mkey\u001b[0m\u001b[0;34m)\u001b[0m\u001b[0;34m\u001b[0m\u001b[0;34m\u001b[0m\u001b[0m\n\u001b[0;32m-> 2980\u001b[0;31m             \u001b[0mindexer\u001b[0m \u001b[0;34m=\u001b[0m \u001b[0mself\u001b[0m\u001b[0;34m.\u001b[0m\u001b[0mcolumns\u001b[0m\u001b[0;34m.\u001b[0m\u001b[0mget_loc\u001b[0m\u001b[0;34m(\u001b[0m\u001b[0mkey\u001b[0m\u001b[0;34m)\u001b[0m\u001b[0;34m\u001b[0m\u001b[0;34m\u001b[0m\u001b[0m\n\u001b[0m\u001b[1;32m   2981\u001b[0m             \u001b[0;32mif\u001b[0m \u001b[0mis_integer\u001b[0m\u001b[0;34m(\u001b[0m\u001b[0mindexer\u001b[0m\u001b[0;34m)\u001b[0m\u001b[0;34m:\u001b[0m\u001b[0;34m\u001b[0m\u001b[0;34m\u001b[0m\u001b[0m\n\u001b[1;32m   2982\u001b[0m                 \u001b[0mindexer\u001b[0m \u001b[0;34m=\u001b[0m \u001b[0;34m[\u001b[0m\u001b[0mindexer\u001b[0m\u001b[0;34m]\u001b[0m\u001b[0;34m\u001b[0m\u001b[0;34m\u001b[0m\u001b[0m\n",
      "\u001b[0;32m/opt/anaconda3/lib/python3.7/site-packages/pandas/core/indexes/base.py\u001b[0m in \u001b[0;36mget_loc\u001b[0;34m(self, key, method, tolerance)\u001b[0m\n\u001b[1;32m   2897\u001b[0m                 \u001b[0;32mreturn\u001b[0m \u001b[0mself\u001b[0m\u001b[0;34m.\u001b[0m\u001b[0m_engine\u001b[0m\u001b[0;34m.\u001b[0m\u001b[0mget_loc\u001b[0m\u001b[0;34m(\u001b[0m\u001b[0mkey\u001b[0m\u001b[0;34m)\u001b[0m\u001b[0;34m\u001b[0m\u001b[0;34m\u001b[0m\u001b[0m\n\u001b[1;32m   2898\u001b[0m             \u001b[0;32mexcept\u001b[0m \u001b[0mKeyError\u001b[0m\u001b[0;34m:\u001b[0m\u001b[0;34m\u001b[0m\u001b[0;34m\u001b[0m\u001b[0m\n\u001b[0;32m-> 2899\u001b[0;31m                 \u001b[0;32mreturn\u001b[0m \u001b[0mself\u001b[0m\u001b[0;34m.\u001b[0m\u001b[0m_engine\u001b[0m\u001b[0;34m.\u001b[0m\u001b[0mget_loc\u001b[0m\u001b[0;34m(\u001b[0m\u001b[0mself\u001b[0m\u001b[0;34m.\u001b[0m\u001b[0m_maybe_cast_indexer\u001b[0m\u001b[0;34m(\u001b[0m\u001b[0mkey\u001b[0m\u001b[0;34m)\u001b[0m\u001b[0;34m)\u001b[0m\u001b[0;34m\u001b[0m\u001b[0;34m\u001b[0m\u001b[0m\n\u001b[0m\u001b[1;32m   2900\u001b[0m         \u001b[0mindexer\u001b[0m \u001b[0;34m=\u001b[0m \u001b[0mself\u001b[0m\u001b[0;34m.\u001b[0m\u001b[0mget_indexer\u001b[0m\u001b[0;34m(\u001b[0m\u001b[0;34m[\u001b[0m\u001b[0mkey\u001b[0m\u001b[0;34m]\u001b[0m\u001b[0;34m,\u001b[0m \u001b[0mmethod\u001b[0m\u001b[0;34m=\u001b[0m\u001b[0mmethod\u001b[0m\u001b[0;34m,\u001b[0m \u001b[0mtolerance\u001b[0m\u001b[0;34m=\u001b[0m\u001b[0mtolerance\u001b[0m\u001b[0;34m)\u001b[0m\u001b[0;34m\u001b[0m\u001b[0;34m\u001b[0m\u001b[0m\n\u001b[1;32m   2901\u001b[0m         \u001b[0;32mif\u001b[0m \u001b[0mindexer\u001b[0m\u001b[0;34m.\u001b[0m\u001b[0mndim\u001b[0m \u001b[0;34m>\u001b[0m \u001b[0;36m1\u001b[0m \u001b[0;32mor\u001b[0m \u001b[0mindexer\u001b[0m\u001b[0;34m.\u001b[0m\u001b[0msize\u001b[0m \u001b[0;34m>\u001b[0m \u001b[0;36m1\u001b[0m\u001b[0;34m:\u001b[0m\u001b[0;34m\u001b[0m\u001b[0;34m\u001b[0m\u001b[0m\n",
      "\u001b[0;32mpandas/_libs/index.pyx\u001b[0m in \u001b[0;36mpandas._libs.index.IndexEngine.get_loc\u001b[0;34m()\u001b[0m\n",
      "\u001b[0;32mpandas/_libs/index.pyx\u001b[0m in \u001b[0;36mpandas._libs.index.IndexEngine.get_loc\u001b[0;34m()\u001b[0m\n",
      "\u001b[0;32mpandas/_libs/hashtable_class_helper.pxi\u001b[0m in \u001b[0;36mpandas._libs.hashtable.PyObjectHashTable.get_item\u001b[0;34m()\u001b[0m\n",
      "\u001b[0;32mpandas/_libs/hashtable_class_helper.pxi\u001b[0m in \u001b[0;36mpandas._libs.hashtable.PyObjectHashTable.get_item\u001b[0;34m()\u001b[0m\n",
      "\u001b[0;31mKeyError\u001b[0m: False"
     ]
    }
   ],
   "source": [
    "df_from_dict[df_from_dict[\"VehCrimeRate\"][\"BE\"] > 4]\n",
    "#If we want to go back to VehCrimeRate  and see if it above 4"
   ]
  },
  {
   "cell_type": "markdown",
   "metadata": {},
   "source": [
    "Beyond accessing rows through their position, we can also subset the `DataFrame` according to specific conditions. So, if we only wanted to look at constituencies that have a vehicle crime rate above 4, we would do."
   ]
  },
  {
   "cell_type": "code",
   "execution_count": 47,
   "metadata": {},
   "outputs": [
    {
     "data": {
      "text/html": [
       "<div>\n",
       "<style scoped>\n",
       "    .dataframe tbody tr th:only-of-type {\n",
       "        vertical-align: middle;\n",
       "    }\n",
       "\n",
       "    .dataframe tbody tr th {\n",
       "        vertical-align: top;\n",
       "    }\n",
       "\n",
       "    .dataframe thead th {\n",
       "        text-align: right;\n",
       "    }\n",
       "</style>\n",
       "<table border=\"1\" class=\"dataframe\">\n",
       "  <thead>\n",
       "    <tr style=\"text-align: right;\">\n",
       "      <th></th>\n",
       "      <th>Name</th>\n",
       "      <th>ViolenceRate</th>\n",
       "      <th>TheftRate</th>\n",
       "      <th>VehCrimeRate</th>\n",
       "    </tr>\n",
       "  </thead>\n",
       "  <tbody>\n",
       "    <tr>\n",
       "      <td>BS</td>\n",
       "      <td>Belfast South</td>\n",
       "      <td>20.6</td>\n",
       "      <td>14.7</td>\n",
       "      <td>4.5</td>\n",
       "    </tr>\n",
       "    <tr>\n",
       "      <td>BW</td>\n",
       "      <td>Belfast West</td>\n",
       "      <td>25.4</td>\n",
       "      <td>10.9</td>\n",
       "      <td>5.6</td>\n",
       "    </tr>\n",
       "  </tbody>\n",
       "</table>\n",
       "</div>"
      ],
      "text/plain": [
       "             Name  ViolenceRate  TheftRate  VehCrimeRate\n",
       "BS  Belfast South          20.6       14.7           4.5\n",
       "BW   Belfast West          25.4       10.9           5.6"
      ]
     },
     "execution_count": 47,
     "metadata": {},
     "output_type": "execute_result"
    }
   ],
   "source": [
    "df_from_dict[df_from_dict[\"VehCrimeRate\"] > 4]"
   ]
  },
  {
   "cell_type": "markdown",
   "metadata": {},
   "source": [
    "In addition to subsetting by inclusion, i.e. saying we want to look at specific columns we can also subset by exclusion using the `drop` command and specifying the `axis` argument as `1` to subset columns and `0` to subset rows."
   ]
  },
  {
   "cell_type": "code",
   "execution_count": 48,
   "metadata": {},
   "outputs": [
    {
     "data": {
      "text/html": [
       "<div>\n",
       "<style scoped>\n",
       "    .dataframe tbody tr th:only-of-type {\n",
       "        vertical-align: middle;\n",
       "    }\n",
       "\n",
       "    .dataframe tbody tr th {\n",
       "        vertical-align: top;\n",
       "    }\n",
       "\n",
       "    .dataframe thead th {\n",
       "        text-align: right;\n",
       "    }\n",
       "</style>\n",
       "<table border=\"1\" class=\"dataframe\">\n",
       "  <thead>\n",
       "    <tr style=\"text-align: right;\">\n",
       "      <th></th>\n",
       "      <th>Name</th>\n",
       "      <th>TheftRate</th>\n",
       "      <th>VehCrimeRate</th>\n",
       "    </tr>\n",
       "  </thead>\n",
       "  <tbody>\n",
       "    <tr>\n",
       "      <td>BE</td>\n",
       "      <td>Belfast East</td>\n",
       "      <td>7.6</td>\n",
       "      <td>1.8</td>\n",
       "    </tr>\n",
       "    <tr>\n",
       "      <td>BN</td>\n",
       "      <td>Belfast North</td>\n",
       "      <td>11.2</td>\n",
       "      <td>3.4</td>\n",
       "    </tr>\n",
       "    <tr>\n",
       "      <td>BS</td>\n",
       "      <td>Belfast South</td>\n",
       "      <td>14.7</td>\n",
       "      <td>4.5</td>\n",
       "    </tr>\n",
       "    <tr>\n",
       "      <td>BW</td>\n",
       "      <td>Belfast West</td>\n",
       "      <td>10.9</td>\n",
       "      <td>5.6</td>\n",
       "    </tr>\n",
       "  </tbody>\n",
       "</table>\n",
       "</div>"
      ],
      "text/plain": [
       "             Name  TheftRate  VehCrimeRate\n",
       "BE   Belfast East        7.6           1.8\n",
       "BN  Belfast North       11.2           3.4\n",
       "BS  Belfast South       14.7           4.5\n",
       "BW   Belfast West       10.9           5.6"
      ]
     },
     "execution_count": 48,
     "metadata": {},
     "output_type": "execute_result"
    }
   ],
   "source": [
    "df_from_dict.drop([\"ViolenceRate\"], axis = 1)\n",
    "#This is going to drop along the columns with violenceRate. Here we drop the violencerate"
   ]
  },
  {
   "cell_type": "code",
   "execution_count": 49,
   "metadata": {},
   "outputs": [
    {
     "data": {
      "text/html": [
       "<div>\n",
       "<style scoped>\n",
       "    .dataframe tbody tr th:only-of-type {\n",
       "        vertical-align: middle;\n",
       "    }\n",
       "\n",
       "    .dataframe tbody tr th {\n",
       "        vertical-align: top;\n",
       "    }\n",
       "\n",
       "    .dataframe thead th {\n",
       "        text-align: right;\n",
       "    }\n",
       "</style>\n",
       "<table border=\"1\" class=\"dataframe\">\n",
       "  <thead>\n",
       "    <tr style=\"text-align: right;\">\n",
       "      <th></th>\n",
       "      <th>Name</th>\n",
       "      <th>ViolenceRate</th>\n",
       "      <th>TheftRate</th>\n",
       "      <th>VehCrimeRate</th>\n",
       "    </tr>\n",
       "  </thead>\n",
       "  <tbody>\n",
       "    <tr>\n",
       "      <td>BN</td>\n",
       "      <td>Belfast North</td>\n",
       "      <td>24.2</td>\n",
       "      <td>11.2</td>\n",
       "      <td>3.4</td>\n",
       "    </tr>\n",
       "    <tr>\n",
       "      <td>BS</td>\n",
       "      <td>Belfast South</td>\n",
       "      <td>20.6</td>\n",
       "      <td>14.7</td>\n",
       "      <td>4.5</td>\n",
       "    </tr>\n",
       "    <tr>\n",
       "      <td>BW</td>\n",
       "      <td>Belfast West</td>\n",
       "      <td>25.4</td>\n",
       "      <td>10.9</td>\n",
       "      <td>5.6</td>\n",
       "    </tr>\n",
       "  </tbody>\n",
       "</table>\n",
       "</div>"
      ],
      "text/plain": [
       "             Name  ViolenceRate  TheftRate  VehCrimeRate\n",
       "BN  Belfast North          24.2       11.2           3.4\n",
       "BS  Belfast South          20.6       14.7           4.5\n",
       "BW   Belfast West          25.4       10.9           5.6"
      ]
     },
     "execution_count": 49,
     "metadata": {},
     "output_type": "execute_result"
    }
   ],
   "source": [
    "df_from_dict.drop([\"BE\"], axis = 0)\n",
    "#Here we do not drop the violencerate"
   ]
  },
  {
   "cell_type": "markdown",
   "metadata": {},
   "source": [
    "**Question.** Looking at the cell above and knowing how indexing rows works, can you tell how subsetting here works? "
   ]
  },
  {
   "cell_type": "code",
   "execution_count": null,
   "metadata": {},
   "outputs": [],
   "source": [
    "#The above checks whtether our index equals BE. Here we only get the list that are equal to BE- \n",
    "#We see if the criteria is satisfied or else it removes the column. Here the axis is 0. "
   ]
  },
  {
   "cell_type": "markdown",
   "metadata": {},
   "source": [
    "**Manipulating existing DataFrames.** So far, we have only asked Python to show us different slices of our data but we can also manipulate the underlying data such as subset it permanently or add rows or columns."
   ]
  },
  {
   "cell_type": "markdown",
   "metadata": {},
   "source": [
    "The cell below creates a subset of our original data only containing the constituencies that have a vehicle crime rate above 4."
   ]
  },
  {
   "cell_type": "code",
   "execution_count": 50,
   "metadata": {},
   "outputs": [
    {
     "data": {
      "text/html": [
       "<div>\n",
       "<style scoped>\n",
       "    .dataframe tbody tr th:only-of-type {\n",
       "        vertical-align: middle;\n",
       "    }\n",
       "\n",
       "    .dataframe tbody tr th {\n",
       "        vertical-align: top;\n",
       "    }\n",
       "\n",
       "    .dataframe thead th {\n",
       "        text-align: right;\n",
       "    }\n",
       "</style>\n",
       "<table border=\"1\" class=\"dataframe\">\n",
       "  <thead>\n",
       "    <tr style=\"text-align: right;\">\n",
       "      <th></th>\n",
       "      <th>Name</th>\n",
       "      <th>ViolenceRate</th>\n",
       "      <th>TheftRate</th>\n",
       "      <th>VehCrimeRate</th>\n",
       "    </tr>\n",
       "  </thead>\n",
       "  <tbody>\n",
       "    <tr>\n",
       "      <td>BS</td>\n",
       "      <td>Belfast South</td>\n",
       "      <td>20.6</td>\n",
       "      <td>14.7</td>\n",
       "      <td>4.5</td>\n",
       "    </tr>\n",
       "    <tr>\n",
       "      <td>BW</td>\n",
       "      <td>Belfast West</td>\n",
       "      <td>25.4</td>\n",
       "      <td>10.9</td>\n",
       "      <td>5.6</td>\n",
       "    </tr>\n",
       "  </tbody>\n",
       "</table>\n",
       "</div>"
      ],
      "text/plain": [
       "             Name  ViolenceRate  TheftRate  VehCrimeRate\n",
       "BS  Belfast South          20.6       14.7           4.5\n",
       "BW   Belfast West          25.4       10.9           5.6"
      ]
     },
     "execution_count": 50,
     "metadata": {},
     "output_type": "execute_result"
    }
   ],
   "source": [
    "df_from_dict_highVehCrimeRate = df_from_dict[df_from_dict[\"VehCrimeRate\"] > 4]\n",
    "\n",
    "df_from_dict_highVehCrimeRate\n",
    "\n",
    "#If you want to create a dataframe that include highVehCrime in it, you create it this way. "
   ]
  },
  {
   "cell_type": "markdown",
   "metadata": {},
   "source": [
    "To add a row to our exisiting `DateFrame`, we first need to define the new row, turn it into a `DataFrame` object and then use the append command. NB we are setting the `ignore_index` argument to `True` here which removes our string row indices and also provides us with consistent row indices. "
   ]
  },
  {
   "cell_type": "code",
   "execution_count": 51,
   "metadata": {},
   "outputs": [
    {
     "data": {
      "text/html": [
       "<div>\n",
       "<style scoped>\n",
       "    .dataframe tbody tr th:only-of-type {\n",
       "        vertical-align: middle;\n",
       "    }\n",
       "\n",
       "    .dataframe tbody tr th {\n",
       "        vertical-align: top;\n",
       "    }\n",
       "\n",
       "    .dataframe thead th {\n",
       "        text-align: right;\n",
       "    }\n",
       "</style>\n",
       "<table border=\"1\" class=\"dataframe\">\n",
       "  <thead>\n",
       "    <tr style=\"text-align: right;\">\n",
       "      <th></th>\n",
       "      <th>Name</th>\n",
       "      <th>ViolenceRate</th>\n",
       "      <th>TheftRate</th>\n",
       "      <th>VehCrimeRate</th>\n",
       "    </tr>\n",
       "  </thead>\n",
       "  <tbody>\n",
       "    <tr>\n",
       "      <td>0</td>\n",
       "      <td>Belfast East</td>\n",
       "      <td>13.9</td>\n",
       "      <td>7.6</td>\n",
       "      <td>1.8</td>\n",
       "    </tr>\n",
       "    <tr>\n",
       "      <td>1</td>\n",
       "      <td>Belfast North</td>\n",
       "      <td>24.2</td>\n",
       "      <td>11.2</td>\n",
       "      <td>3.4</td>\n",
       "    </tr>\n",
       "    <tr>\n",
       "      <td>2</td>\n",
       "      <td>Belfast South</td>\n",
       "      <td>20.6</td>\n",
       "      <td>14.7</td>\n",
       "      <td>4.5</td>\n",
       "    </tr>\n",
       "    <tr>\n",
       "      <td>3</td>\n",
       "      <td>Belfast West</td>\n",
       "      <td>25.4</td>\n",
       "      <td>10.9</td>\n",
       "      <td>5.6</td>\n",
       "    </tr>\n",
       "    <tr>\n",
       "      <td>4</td>\n",
       "      <td>East Antrim</td>\n",
       "      <td>9.7</td>\n",
       "      <td>4.5</td>\n",
       "      <td>0.9</td>\n",
       "    </tr>\n",
       "  </tbody>\n",
       "</table>\n",
       "</div>"
      ],
      "text/plain": [
       "            Name  ViolenceRate  TheftRate  VehCrimeRate\n",
       "0   Belfast East          13.9        7.6           1.8\n",
       "1  Belfast North          24.2       11.2           3.4\n",
       "2  Belfast South          20.6       14.7           4.5\n",
       "3   Belfast West          25.4       10.9           5.6\n",
       "4    East Antrim           9.7        4.5           0.9"
      ]
     },
     "execution_count": 51,
     "metadata": {},
     "output_type": "execute_result"
    }
   ],
   "source": [
    "new_row = [{\"Name\": \"East Antrim\",\n",
    "            \"ViolenceRate\": 9.7,\n",
    "            \"TheftRate\": 4.5,\n",
    "            \"VehCrimeRate\": 0.9}]\n",
    "#Here a list containing a dictionary\n",
    "\n",
    "new_row_df = pd.DataFrame(new_row)\n",
    "\n",
    "df_from_dict_longer = df_from_dict.append(new_row_df, ignore_index = True)\n",
    "#the argument about ignore index tells us to get rid of all indecies we had in our previous data\n",
    "#We want to create new indices for our new data. Our else we end up with inconsistences. \n",
    "\n",
    "df_from_dict_longer\n",
    "\n",
    "#Here we added an additional value which is East Antrim\n",
    "\n",
    "#The same way can we do for our dataframe."
   ]
  },
  {
   "cell_type": "markdown",
   "metadata": {},
   "source": [
    "If we did not set the `ignore_index` argument to `True`, we would either end up with inconsistent row indices"
   ]
  },
  {
   "cell_type": "code",
   "execution_count": 54,
   "metadata": {},
   "outputs": [
    {
     "data": {
      "text/html": [
       "<div>\n",
       "<style scoped>\n",
       "    .dataframe tbody tr th:only-of-type {\n",
       "        vertical-align: middle;\n",
       "    }\n",
       "\n",
       "    .dataframe tbody tr th {\n",
       "        vertical-align: top;\n",
       "    }\n",
       "\n",
       "    .dataframe thead th {\n",
       "        text-align: right;\n",
       "    }\n",
       "</style>\n",
       "<table border=\"1\" class=\"dataframe\">\n",
       "  <thead>\n",
       "    <tr style=\"text-align: right;\">\n",
       "      <th></th>\n",
       "      <th>Name</th>\n",
       "      <th>ViolenceRate</th>\n",
       "      <th>TheftRate</th>\n",
       "      <th>VehCrimeRate</th>\n",
       "    </tr>\n",
       "  </thead>\n",
       "  <tbody>\n",
       "    <tr>\n",
       "      <td>BE</td>\n",
       "      <td>Belfast East</td>\n",
       "      <td>13.9</td>\n",
       "      <td>7.6</td>\n",
       "      <td>1.8</td>\n",
       "    </tr>\n",
       "    <tr>\n",
       "      <td>BN</td>\n",
       "      <td>Belfast North</td>\n",
       "      <td>24.2</td>\n",
       "      <td>11.2</td>\n",
       "      <td>3.4</td>\n",
       "    </tr>\n",
       "    <tr>\n",
       "      <td>BS</td>\n",
       "      <td>Belfast South</td>\n",
       "      <td>20.6</td>\n",
       "      <td>14.7</td>\n",
       "      <td>4.5</td>\n",
       "    </tr>\n",
       "    <tr>\n",
       "      <td>BW</td>\n",
       "      <td>Belfast West</td>\n",
       "      <td>25.4</td>\n",
       "      <td>10.9</td>\n",
       "      <td>5.6</td>\n",
       "    </tr>\n",
       "    <tr>\n",
       "      <td>0</td>\n",
       "      <td>East Antrim</td>\n",
       "      <td>9.7</td>\n",
       "      <td>4.5</td>\n",
       "      <td>0.9</td>\n",
       "    </tr>\n",
       "  </tbody>\n",
       "</table>\n",
       "</div>"
      ],
      "text/plain": [
       "             Name  ViolenceRate  TheftRate  VehCrimeRate\n",
       "BE   Belfast East          13.9        7.6           1.8\n",
       "BN  Belfast North          24.2       11.2           3.4\n",
       "BS  Belfast South          20.6       14.7           4.5\n",
       "BW   Belfast West          25.4       10.9           5.6\n",
       "0     East Antrim           9.7        4.5           0.9"
      ]
     },
     "execution_count": 54,
     "metadata": {},
     "output_type": "execute_result"
    }
   ],
   "source": [
    "df_from_dict_inconsistent = df_from_dict.append(new_row_df)\n",
    "\n",
    "df_from_dict_inconsistent\n"
   ]
  },
  {
   "cell_type": "markdown",
   "metadata": {},
   "source": [
    "Or we would end up with duplicate indices, which can lead to unexpected indexing behavior."
   ]
  },
  {
   "cell_type": "code",
   "execution_count": 55,
   "metadata": {},
   "outputs": [
    {
     "data": {
      "text/html": [
       "<div>\n",
       "<style scoped>\n",
       "    .dataframe tbody tr th:only-of-type {\n",
       "        vertical-align: middle;\n",
       "    }\n",
       "\n",
       "    .dataframe tbody tr th {\n",
       "        vertical-align: top;\n",
       "    }\n",
       "\n",
       "    .dataframe thead th {\n",
       "        text-align: right;\n",
       "    }\n",
       "</style>\n",
       "<table border=\"1\" class=\"dataframe\">\n",
       "  <thead>\n",
       "    <tr style=\"text-align: right;\">\n",
       "      <th></th>\n",
       "      <th>Name</th>\n",
       "      <th>ViolenceRate</th>\n",
       "      <th>TheftRate</th>\n",
       "      <th>VehCrimeRate</th>\n",
       "    </tr>\n",
       "  </thead>\n",
       "  <tbody>\n",
       "    <tr>\n",
       "      <td>0</td>\n",
       "      <td>Belfast East</td>\n",
       "      <td>13.9</td>\n",
       "      <td>7.6</td>\n",
       "      <td>1.8</td>\n",
       "    </tr>\n",
       "    <tr>\n",
       "      <td>1</td>\n",
       "      <td>Belfast North</td>\n",
       "      <td>24.2</td>\n",
       "      <td>11.2</td>\n",
       "      <td>3.4</td>\n",
       "    </tr>\n",
       "    <tr>\n",
       "      <td>2</td>\n",
       "      <td>Belfast South</td>\n",
       "      <td>20.6</td>\n",
       "      <td>14.7</td>\n",
       "      <td>4.5</td>\n",
       "    </tr>\n",
       "    <tr>\n",
       "      <td>3</td>\n",
       "      <td>Belfast West</td>\n",
       "      <td>25.4</td>\n",
       "      <td>10.9</td>\n",
       "      <td>5.6</td>\n",
       "    </tr>\n",
       "    <tr>\n",
       "      <td>0</td>\n",
       "      <td>East Antrim</td>\n",
       "      <td>9.7</td>\n",
       "      <td>4.5</td>\n",
       "      <td>0.9</td>\n",
       "    </tr>\n",
       "  </tbody>\n",
       "</table>\n",
       "</div>"
      ],
      "text/plain": [
       "            Name  ViolenceRate  TheftRate  VehCrimeRate\n",
       "0   Belfast East          13.9        7.6           1.8\n",
       "1  Belfast North          24.2       11.2           3.4\n",
       "2  Belfast South          20.6       14.7           4.5\n",
       "3   Belfast West          25.4       10.9           5.6\n",
       "0    East Antrim           9.7        4.5           0.9"
      ]
     },
     "execution_count": 55,
     "metadata": {},
     "output_type": "execute_result"
    }
   ],
   "source": [
    "df_from_list_of_dicts.columns = ['Name', 'ViolenceRate', 'TheftRate', 'VehCrimeRate']\n",
    "\n",
    "df_from_list_of_dicts_duplicate_indices = df_from_list_of_dicts.append(new_row_df)\n",
    "\n",
    "df_from_list_of_dicts_duplicate_indices"
   ]
  },
  {
   "cell_type": "code",
   "execution_count": 56,
   "metadata": {},
   "outputs": [
    {
     "data": {
      "text/plain": [
       "0    Belfast East\n",
       "0     East Antrim\n",
       "Name: Name, dtype: object"
      ]
     },
     "execution_count": 56,
     "metadata": {},
     "output_type": "execute_result"
    }
   ],
   "source": [
    "df_from_list_of_dicts_duplicate_indices[\"Name\"][0]\n"
   ]
  },
  {
   "cell_type": "markdown",
   "metadata": {},
   "source": [
    "## 6.1.3 Pandas for easy import and manipulation of tabular data"
   ]
  },
  {
   "cell_type": "markdown",
   "metadata": {},
   "source": [
    "As we briefly touched upon in previous sessions, `Pandas` also has built-in functionality to import all kinds of tabular data which we can then manipulate with our knowledge about how to work with `DataFrames`. So rather than reading last weeks causes of death CSV line by line, we can do:"
   ]
  },
  {
   "cell_type": "code",
   "execution_count": null,
   "metadata": {},
   "outputs": [],
   "source": [
    "us_deaths_2016 = pd.read_csv('nchs_death_causes.csv')\n",
    "\n",
    "us_deaths_2016"
   ]
  },
  {
   "cell_type": "markdown",
   "metadata": {},
   "source": [
    "Now, with the death data in a `DataFrame`, we can easily subset the data. For example, if we want to only look at deaths attributable to accidents or Alzheimer's disease, we could use the `DataFrame` method `isin` test whether the cause for a given row is one of either."
   ]
  },
  {
   "cell_type": "code",
   "execution_count": null,
   "metadata": {},
   "outputs": [],
   "source": [
    "accidents_alzheimer_2016 = us_deaths_2016[us_deaths_2016[\"Cause Name\"].isin([\"Unintentional injuries\", \"Alzheimer's disease\"])]\n",
    "\n",
    "accidents_alzheimer_2016"
   ]
  },
  {
   "cell_type": "markdown",
   "metadata": {},
   "source": [
    "And plot it just as easily."
   ]
  },
  {
   "cell_type": "code",
   "execution_count": null,
   "metadata": {},
   "outputs": [],
   "source": [
    "import matplotlib.pyplot as plt"
   ]
  },
  {
   "cell_type": "code",
   "execution_count": null,
   "metadata": {},
   "outputs": [],
   "source": [
    "plt.plot(accidents_alzheimer_2016['Age-adjusted Death Rate'][accidents_alzheimer_2016['Cause Name'] == 'Unintentional injuries'],\n",
    "         accidents_alzheimer_2016['Age-adjusted Death Rate'][accidents_alzheimer_2016['Cause Name'] == \"Alzheimer's disease\"], \n",
    "         'o')\n"
   ]
  },
  {
   "cell_type": "code",
   "execution_count": null,
   "metadata": {},
   "outputs": [],
   "source": [
    "plt.hist(accidents_alzheimer_2016['Age-adjusted Death Rate'][accidents_alzheimer_2016['Cause Name'] == \"Alzheimer's disease\"])"
   ]
  }
 ],
 "metadata": {
  "kernelspec": {
   "display_name": "Python 3",
   "language": "python",
   "name": "python3"
  },
  "language_info": {
   "codemirror_mode": {
    "name": "ipython",
    "version": 3
   },
   "file_extension": ".py",
   "mimetype": "text/x-python",
   "name": "python",
   "nbconvert_exporter": "python",
   "pygments_lexer": "ipython3",
   "version": "3.7.4"
  }
 },
 "nbformat": 4,
 "nbformat_minor": 2
}
